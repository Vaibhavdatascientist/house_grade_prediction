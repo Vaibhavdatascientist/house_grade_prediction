{
 "cells": [
  {
   "cell_type": "markdown",
   "id": "fb472bdf",
   "metadata": {},
   "source": [
    "### Importing Libraries"
   ]
  },
  {
   "cell_type": "code",
   "execution_count": 2,
   "id": "17f9307e",
   "metadata": {},
   "outputs": [],
   "source": [
    "import warnings\n",
    "warnings.filterwarnings('ignore')"
   ]
  },
  {
   "cell_type": "code",
   "execution_count": 3,
   "id": "f8a9037c",
   "metadata": {},
   "outputs": [],
   "source": [
    "import numpy as np\n",
    "import pandas as pd\n",
    "import seaborn as sns\n",
    "import matplotlib.pyplot as plt"
   ]
  },
  {
   "cell_type": "markdown",
   "id": "ca668ba6",
   "metadata": {},
   "source": [
    "### Reading Train and Test Dataset"
   ]
  },
  {
   "cell_type": "code",
   "execution_count": 2,
   "id": "2a940e67",
   "metadata": {
    "scrolled": true
   },
   "outputs": [
    {
     "data": {
      "text/html": [
       "<div>\n",
       "<style scoped>\n",
       "    .dataframe tbody tr th:only-of-type {\n",
       "        vertical-align: middle;\n",
       "    }\n",
       "\n",
       "    .dataframe tbody tr th {\n",
       "        vertical-align: top;\n",
       "    }\n",
       "\n",
       "    .dataframe thead th {\n",
       "        text-align: right;\n",
       "    }\n",
       "</style>\n",
       "<table border=\"1\" class=\"dataframe\">\n",
       "  <thead>\n",
       "    <tr style=\"text-align: right;\">\n",
       "      <th></th>\n",
       "      <th>id</th>\n",
       "      <th>Area(total)</th>\n",
       "      <th>Troom</th>\n",
       "      <th>Nbedrooms</th>\n",
       "      <th>Nbwashrooms</th>\n",
       "      <th>Twashrooms</th>\n",
       "      <th>roof</th>\n",
       "      <th>Roof(Area)</th>\n",
       "      <th>Lawn(Area)</th>\n",
       "      <th>Nfloors</th>\n",
       "      <th>API</th>\n",
       "      <th>ANB</th>\n",
       "      <th>Grade</th>\n",
       "      <th>EXPECTED</th>\n",
       "    </tr>\n",
       "  </thead>\n",
       "  <tbody>\n",
       "    <tr>\n",
       "      <th>0</th>\n",
       "      <td>1</td>\n",
       "      <td>305</td>\n",
       "      <td>8.0</td>\n",
       "      <td>2.0</td>\n",
       "      <td>1.0</td>\n",
       "      <td>3.0</td>\n",
       "      <td>NO</td>\n",
       "      <td>0.0</td>\n",
       "      <td>76.0</td>\n",
       "      <td>2</td>\n",
       "      <td>63.0</td>\n",
       "      <td>4</td>\n",
       "      <td>D</td>\n",
       "      <td>3826$</td>\n",
       "    </tr>\n",
       "    <tr>\n",
       "      <th>1</th>\n",
       "      <td>2</td>\n",
       "      <td>344</td>\n",
       "      <td>6.0</td>\n",
       "      <td>7.0</td>\n",
       "      <td>7.0</td>\n",
       "      <td>8.0</td>\n",
       "      <td>no</td>\n",
       "      <td>0.0</td>\n",
       "      <td>83.0</td>\n",
       "      <td>7</td>\n",
       "      <td>97.0</td>\n",
       "      <td>1</td>\n",
       "      <td>B</td>\n",
       "      <td>4458$</td>\n",
       "    </tr>\n",
       "    <tr>\n",
       "      <th>2</th>\n",
       "      <td>3</td>\n",
       "      <td>294</td>\n",
       "      <td>8.0</td>\n",
       "      <td>4.0</td>\n",
       "      <td>3.0</td>\n",
       "      <td>4.0</td>\n",
       "      <td>yes</td>\n",
       "      <td>97.0</td>\n",
       "      <td>78.0</td>\n",
       "      <td>1</td>\n",
       "      <td>88.0</td>\n",
       "      <td>4</td>\n",
       "      <td>C</td>\n",
       "      <td>4199$</td>\n",
       "    </tr>\n",
       "    <tr>\n",
       "      <th>3</th>\n",
       "      <td>4</td>\n",
       "      <td>328</td>\n",
       "      <td>5.0</td>\n",
       "      <td>4.0</td>\n",
       "      <td>2.0</td>\n",
       "      <td>4.0</td>\n",
       "      <td>NO</td>\n",
       "      <td>0.0</td>\n",
       "      <td>91.0</td>\n",
       "      <td>5</td>\n",
       "      <td>86.0</td>\n",
       "      <td>1</td>\n",
       "      <td>D</td>\n",
       "      <td>3462$</td>\n",
       "    </tr>\n",
       "    <tr>\n",
       "      <th>4</th>\n",
       "      <td>5</td>\n",
       "      <td>295</td>\n",
       "      <td>9.0</td>\n",
       "      <td>5.0</td>\n",
       "      <td>3.0</td>\n",
       "      <td>5.0</td>\n",
       "      <td>NaN</td>\n",
       "      <td>NaN</td>\n",
       "      <td>97.0</td>\n",
       "      <td>4</td>\n",
       "      <td>93.0</td>\n",
       "      <td>3</td>\n",
       "      <td>C</td>\n",
       "      <td>4543$</td>\n",
       "    </tr>\n",
       "  </tbody>\n",
       "</table>\n",
       "</div>"
      ],
      "text/plain": [
       "   id  Area(total)  Troom  Nbedrooms  Nbwashrooms  Twashrooms roof  \\\n",
       "0   1          305    8.0        2.0          1.0         3.0   NO   \n",
       "1   2          344    6.0        7.0          7.0         8.0   no   \n",
       "2   3          294    8.0        4.0          3.0         4.0  yes   \n",
       "3   4          328    5.0        4.0          2.0         4.0   NO   \n",
       "4   5          295    9.0        5.0          3.0         5.0  NaN   \n",
       "\n",
       "   Roof(Area)  Lawn(Area)  Nfloors   API  ANB Grade EXPECTED  \n",
       "0         0.0        76.0        2  63.0    4     D    3826$  \n",
       "1         0.0        83.0        7  97.0    1     B    4458$  \n",
       "2        97.0        78.0        1  88.0    4     C    4199$  \n",
       "3         0.0        91.0        5  86.0    1     D    3462$  \n",
       "4         NaN        97.0        4  93.0    3     C    4543$  "
      ]
     },
     "execution_count": 2,
     "metadata": {},
     "output_type": "execute_result"
    }
   ],
   "source": [
    "train = pd.read_csv('TRAINING_.csv')\n",
    "train.head()"
   ]
  },
  {
   "cell_type": "code",
   "execution_count": 3,
   "id": "cd72dae5",
   "metadata": {},
   "outputs": [
    {
     "data": {
      "text/html": [
       "<div>\n",
       "<style scoped>\n",
       "    .dataframe tbody tr th:only-of-type {\n",
       "        vertical-align: middle;\n",
       "    }\n",
       "\n",
       "    .dataframe tbody tr th {\n",
       "        vertical-align: top;\n",
       "    }\n",
       "\n",
       "    .dataframe thead th {\n",
       "        text-align: right;\n",
       "    }\n",
       "</style>\n",
       "<table border=\"1\" class=\"dataframe\">\n",
       "  <thead>\n",
       "    <tr style=\"text-align: right;\">\n",
       "      <th></th>\n",
       "      <th>id</th>\n",
       "      <th>Area(total)</th>\n",
       "      <th>Troom</th>\n",
       "      <th>Nbedrooms</th>\n",
       "      <th>Nbwashrooms</th>\n",
       "      <th>Twashrooms</th>\n",
       "      <th>roof</th>\n",
       "      <th>Roof(Area)</th>\n",
       "      <th>Lawn(Area)</th>\n",
       "      <th>Nfloors</th>\n",
       "      <th>API</th>\n",
       "      <th>ANB</th>\n",
       "      <th>EXPECTED</th>\n",
       "    </tr>\n",
       "  </thead>\n",
       "  <tbody>\n",
       "    <tr>\n",
       "      <th>0</th>\n",
       "      <td>1</td>\n",
       "      <td>348</td>\n",
       "      <td>9.0</td>\n",
       "      <td>5.0</td>\n",
       "      <td>3.0</td>\n",
       "      <td>5</td>\n",
       "      <td>NaN</td>\n",
       "      <td>NaN</td>\n",
       "      <td>84.0</td>\n",
       "      <td>5</td>\n",
       "      <td>91.0</td>\n",
       "      <td>6</td>\n",
       "      <td>4422$</td>\n",
       "    </tr>\n",
       "    <tr>\n",
       "      <th>1</th>\n",
       "      <td>2</td>\n",
       "      <td>311</td>\n",
       "      <td>6.0</td>\n",
       "      <td>5.0</td>\n",
       "      <td>5.0</td>\n",
       "      <td>6</td>\n",
       "      <td>NO</td>\n",
       "      <td>0.0</td>\n",
       "      <td>86.0</td>\n",
       "      <td>6</td>\n",
       "      <td>83.0</td>\n",
       "      <td>4</td>\n",
       "      <td>3432$</td>\n",
       "    </tr>\n",
       "    <tr>\n",
       "      <th>2</th>\n",
       "      <td>3</td>\n",
       "      <td>342</td>\n",
       "      <td>5.0</td>\n",
       "      <td>6.0</td>\n",
       "      <td>6.0</td>\n",
       "      <td>7</td>\n",
       "      <td>yes</td>\n",
       "      <td>120.0</td>\n",
       "      <td>85.0</td>\n",
       "      <td>4</td>\n",
       "      <td>95.0</td>\n",
       "      <td>5</td>\n",
       "      <td>4066$</td>\n",
       "    </tr>\n",
       "    <tr>\n",
       "      <th>3</th>\n",
       "      <td>4</td>\n",
       "      <td>329</td>\n",
       "      <td>7.0</td>\n",
       "      <td>7.0</td>\n",
       "      <td>4.0</td>\n",
       "      <td>6</td>\n",
       "      <td>NaN</td>\n",
       "      <td>NaN</td>\n",
       "      <td>105.0</td>\n",
       "      <td>5</td>\n",
       "      <td>97.0</td>\n",
       "      <td>6</td>\n",
       "      <td>4322$</td>\n",
       "    </tr>\n",
       "    <tr>\n",
       "      <th>4</th>\n",
       "      <td>5</td>\n",
       "      <td>307</td>\n",
       "      <td>6.0</td>\n",
       "      <td>2.0</td>\n",
       "      <td>3.0</td>\n",
       "      <td>4</td>\n",
       "      <td>no</td>\n",
       "      <td>0.0</td>\n",
       "      <td>76.0</td>\n",
       "      <td>2</td>\n",
       "      <td>64.0</td>\n",
       "      <td>4</td>\n",
       "      <td>3031$</td>\n",
       "    </tr>\n",
       "  </tbody>\n",
       "</table>\n",
       "</div>"
      ],
      "text/plain": [
       "   id  Area(total)  Troom  Nbedrooms  Nbwashrooms  Twashrooms roof  \\\n",
       "0   1          348    9.0        5.0          3.0           5  NaN   \n",
       "1   2          311    6.0        5.0          5.0           6   NO   \n",
       "2   3          342    5.0        6.0          6.0           7  yes   \n",
       "3   4          329    7.0        7.0          4.0           6  NaN   \n",
       "4   5          307    6.0        2.0          3.0           4   no   \n",
       "\n",
       "   Roof(Area)  Lawn(Area)  Nfloors   API  ANB EXPECTED  \n",
       "0         NaN        84.0        5  91.0    6    4422$  \n",
       "1         0.0        86.0        6  83.0    4    3432$  \n",
       "2       120.0        85.0        4  95.0    5    4066$  \n",
       "3         NaN       105.0        5  97.0    6    4322$  \n",
       "4         0.0        76.0        2  64.0    4    3031$  "
      ]
     },
     "execution_count": 3,
     "metadata": {},
     "output_type": "execute_result"
    }
   ],
   "source": [
    "test = pd.read_csv('TEST_.csv')\n",
    "test.head()"
   ]
  },
  {
   "cell_type": "code",
   "execution_count": 4,
   "id": "9b116225",
   "metadata": {},
   "outputs": [
    {
     "data": {
      "text/plain": [
       "(7000, 14)"
      ]
     },
     "execution_count": 4,
     "metadata": {},
     "output_type": "execute_result"
    }
   ],
   "source": [
    "train.shape     # Rows - 7000 and columns - 14"
   ]
  },
  {
   "cell_type": "code",
   "execution_count": 5,
   "id": "d75c0aa2",
   "metadata": {},
   "outputs": [
    {
     "data": {
      "text/plain": [
       "(3299, 13)"
      ]
     },
     "execution_count": 5,
     "metadata": {},
     "output_type": "execute_result"
    }
   ],
   "source": [
    "test.shape     # Rows - 3299, Columns - 13"
   ]
  },
  {
   "cell_type": "code",
   "execution_count": 6,
   "id": "6961c9e3",
   "metadata": {},
   "outputs": [
    {
     "data": {
      "text/plain": [
       "C    2928\n",
       "D    2129\n",
       "B    1475\n",
       "A     442\n",
       "E      26\n",
       "Name: Grade, dtype: int64"
      ]
     },
     "execution_count": 6,
     "metadata": {},
     "output_type": "execute_result"
    }
   ],
   "source": [
    "train['Grade'].value_counts()    # Out Target variable      "
   ]
  },
  {
   "cell_type": "markdown",
   "id": "94a6e54f",
   "metadata": {},
   "source": [
    "### Treating null and duplicates in train"
   ]
  },
  {
   "cell_type": "code",
   "execution_count": 7,
   "id": "86bd6b84",
   "metadata": {},
   "outputs": [
    {
     "data": {
      "text/plain": [
       "id                0\n",
       "Area(total)       0\n",
       "Troom             2\n",
       "Nbedrooms         3\n",
       "Nbwashrooms       2\n",
       "Twashrooms        1\n",
       "roof           1353\n",
       "Roof(Area)     1353\n",
       "Lawn(Area)        2\n",
       "Nfloors           0\n",
       "API               1\n",
       "ANB               0\n",
       "Grade             0\n",
       "EXPECTED          0\n",
       "dtype: int64"
      ]
     },
     "execution_count": 7,
     "metadata": {},
     "output_type": "execute_result"
    }
   ],
   "source": [
    "train.isnull().sum()"
   ]
  },
  {
   "cell_type": "code",
   "execution_count": 8,
   "id": "421b86a9",
   "metadata": {},
   "outputs": [
    {
     "data": {
      "text/plain": [
       "no     1436\n",
       "NO     1419\n",
       "yes    1413\n",
       "YES    1379\n",
       "Name: roof, dtype: int64"
      ]
     },
     "execution_count": 8,
     "metadata": {},
     "output_type": "execute_result"
    }
   ],
   "source": [
    "train['roof'].value_counts()       "
   ]
  },
  {
   "cell_type": "code",
   "execution_count": 9,
   "id": "e9423c23",
   "metadata": {},
   "outputs": [],
   "source": [
    "train['roof'] = train['roof'].replace('NO', 'no')      # replaced NO with no and YES with yes\n",
    "train['roof'] = train['roof'].replace('YES', 'yes')"
   ]
  },
  {
   "cell_type": "code",
   "execution_count": 10,
   "id": "2efc225c",
   "metadata": {},
   "outputs": [
    {
     "data": {
      "text/plain": [
       "no     2855\n",
       "yes    2792\n",
       "Name: roof, dtype: int64"
      ]
     },
     "execution_count": 10,
     "metadata": {},
     "output_type": "execute_result"
    }
   ],
   "source": [
    "train['roof'].value_counts()      "
   ]
  },
  {
   "cell_type": "code",
   "execution_count": 11,
   "id": "c9deeee3",
   "metadata": {},
   "outputs": [],
   "source": [
    "## Checking if i drop this how much data we will lost \n",
    "def null_value_per(data):\n",
    "    nv = data.isnull().sum()\n",
    "    nv = nv[nv>0]\n",
    "    nv_train = pd.DataFrame({'Feature':nv.index,'NullCount':nv.values,\n",
    "                         'PerNull':(nv.values/data.shape[0])*100})\n",
    "    nv_train = nv_train.sort_values('PerNull',ascending=False)\n",
    "    return nv_train"
   ]
  },
  {
   "cell_type": "code",
   "execution_count": 12,
   "id": "e5f8435b",
   "metadata": {},
   "outputs": [
    {
     "data": {
      "text/html": [
       "<div>\n",
       "<style scoped>\n",
       "    .dataframe tbody tr th:only-of-type {\n",
       "        vertical-align: middle;\n",
       "    }\n",
       "\n",
       "    .dataframe tbody tr th {\n",
       "        vertical-align: top;\n",
       "    }\n",
       "\n",
       "    .dataframe thead th {\n",
       "        text-align: right;\n",
       "    }\n",
       "</style>\n",
       "<table border=\"1\" class=\"dataframe\">\n",
       "  <thead>\n",
       "    <tr style=\"text-align: right;\">\n",
       "      <th></th>\n",
       "      <th>Feature</th>\n",
       "      <th>NullCount</th>\n",
       "      <th>PerNull</th>\n",
       "    </tr>\n",
       "  </thead>\n",
       "  <tbody>\n",
       "    <tr>\n",
       "      <th>4</th>\n",
       "      <td>roof</td>\n",
       "      <td>1353</td>\n",
       "      <td>19.328571</td>\n",
       "    </tr>\n",
       "    <tr>\n",
       "      <th>5</th>\n",
       "      <td>Roof(Area)</td>\n",
       "      <td>1353</td>\n",
       "      <td>19.328571</td>\n",
       "    </tr>\n",
       "    <tr>\n",
       "      <th>1</th>\n",
       "      <td>Nbedrooms</td>\n",
       "      <td>3</td>\n",
       "      <td>0.042857</td>\n",
       "    </tr>\n",
       "    <tr>\n",
       "      <th>0</th>\n",
       "      <td>Troom</td>\n",
       "      <td>2</td>\n",
       "      <td>0.028571</td>\n",
       "    </tr>\n",
       "    <tr>\n",
       "      <th>2</th>\n",
       "      <td>Nbwashrooms</td>\n",
       "      <td>2</td>\n",
       "      <td>0.028571</td>\n",
       "    </tr>\n",
       "    <tr>\n",
       "      <th>6</th>\n",
       "      <td>Lawn(Area)</td>\n",
       "      <td>2</td>\n",
       "      <td>0.028571</td>\n",
       "    </tr>\n",
       "    <tr>\n",
       "      <th>3</th>\n",
       "      <td>Twashrooms</td>\n",
       "      <td>1</td>\n",
       "      <td>0.014286</td>\n",
       "    </tr>\n",
       "    <tr>\n",
       "      <th>7</th>\n",
       "      <td>API</td>\n",
       "      <td>1</td>\n",
       "      <td>0.014286</td>\n",
       "    </tr>\n",
       "  </tbody>\n",
       "</table>\n",
       "</div>"
      ],
      "text/plain": [
       "       Feature  NullCount    PerNull\n",
       "4         roof       1353  19.328571\n",
       "5   Roof(Area)       1353  19.328571\n",
       "1    Nbedrooms          3   0.042857\n",
       "0        Troom          2   0.028571\n",
       "2  Nbwashrooms          2   0.028571\n",
       "6   Lawn(Area)          2   0.028571\n",
       "3   Twashrooms          1   0.014286\n",
       "7          API          1   0.014286"
      ]
     },
     "execution_count": 12,
     "metadata": {},
     "output_type": "execute_result"
    }
   ],
   "source": [
    "nv_per = null_value_per(train)\n",
    "nv_per"
   ]
  },
  {
   "cell_type": "markdown",
   "id": "cdbc775a",
   "metadata": {},
   "source": [
    "If i drop it we will lost about 40 % data so it is not a write approch so we will do a treatment here i will fill roof columns with mode \n",
    "\n"
   ]
  },
  {
   "cell_type": "code",
   "execution_count": 13,
   "id": "4d9f14ca",
   "metadata": {
    "scrolled": true
   },
   "outputs": [
    {
     "data": {
      "text/html": [
       "<div>\n",
       "<style scoped>\n",
       "    .dataframe tbody tr th:only-of-type {\n",
       "        vertical-align: middle;\n",
       "    }\n",
       "\n",
       "    .dataframe tbody tr th {\n",
       "        vertical-align: top;\n",
       "    }\n",
       "\n",
       "    .dataframe thead th {\n",
       "        text-align: right;\n",
       "    }\n",
       "</style>\n",
       "<table border=\"1\" class=\"dataframe\">\n",
       "  <thead>\n",
       "    <tr style=\"text-align: right;\">\n",
       "      <th></th>\n",
       "      <th>Feature</th>\n",
       "      <th>NullCount</th>\n",
       "      <th>PerNull</th>\n",
       "    </tr>\n",
       "  </thead>\n",
       "  <tbody>\n",
       "    <tr>\n",
       "      <th>4</th>\n",
       "      <td>Roof(Area)</td>\n",
       "      <td>1353</td>\n",
       "      <td>19.328571</td>\n",
       "    </tr>\n",
       "    <tr>\n",
       "      <th>1</th>\n",
       "      <td>Nbedrooms</td>\n",
       "      <td>3</td>\n",
       "      <td>0.042857</td>\n",
       "    </tr>\n",
       "    <tr>\n",
       "      <th>0</th>\n",
       "      <td>Troom</td>\n",
       "      <td>2</td>\n",
       "      <td>0.028571</td>\n",
       "    </tr>\n",
       "    <tr>\n",
       "      <th>2</th>\n",
       "      <td>Nbwashrooms</td>\n",
       "      <td>2</td>\n",
       "      <td>0.028571</td>\n",
       "    </tr>\n",
       "    <tr>\n",
       "      <th>5</th>\n",
       "      <td>Lawn(Area)</td>\n",
       "      <td>2</td>\n",
       "      <td>0.028571</td>\n",
       "    </tr>\n",
       "    <tr>\n",
       "      <th>3</th>\n",
       "      <td>Twashrooms</td>\n",
       "      <td>1</td>\n",
       "      <td>0.014286</td>\n",
       "    </tr>\n",
       "    <tr>\n",
       "      <th>6</th>\n",
       "      <td>API</td>\n",
       "      <td>1</td>\n",
       "      <td>0.014286</td>\n",
       "    </tr>\n",
       "  </tbody>\n",
       "</table>\n",
       "</div>"
      ],
      "text/plain": [
       "       Feature  NullCount    PerNull\n",
       "4   Roof(Area)       1353  19.328571\n",
       "1    Nbedrooms          3   0.042857\n",
       "0        Troom          2   0.028571\n",
       "2  Nbwashrooms          2   0.028571\n",
       "5   Lawn(Area)          2   0.028571\n",
       "3   Twashrooms          1   0.014286\n",
       "6          API          1   0.014286"
      ]
     },
     "execution_count": 13,
     "metadata": {},
     "output_type": "execute_result"
    }
   ],
   "source": [
    "train['roof'] = train['roof'].fillna('no')    # filling null values with mode\n",
    "null_value_per(train)"
   ]
  },
  {
   "cell_type": "code",
   "execution_count": 14,
   "id": "bab8fbf8",
   "metadata": {},
   "outputs": [],
   "source": [
    "train['Roof(Area)'] = train['Roof(Area)'].fillna(0.0)  # Filling 0 where there is no roof"
   ]
  },
  {
   "cell_type": "code",
   "execution_count": 15,
   "id": "1ff2d075",
   "metadata": {},
   "outputs": [
    {
     "data": {
      "text/html": [
       "<div>\n",
       "<style scoped>\n",
       "    .dataframe tbody tr th:only-of-type {\n",
       "        vertical-align: middle;\n",
       "    }\n",
       "\n",
       "    .dataframe tbody tr th {\n",
       "        vertical-align: top;\n",
       "    }\n",
       "\n",
       "    .dataframe thead th {\n",
       "        text-align: right;\n",
       "    }\n",
       "</style>\n",
       "<table border=\"1\" class=\"dataframe\">\n",
       "  <thead>\n",
       "    <tr style=\"text-align: right;\">\n",
       "      <th></th>\n",
       "      <th>Feature</th>\n",
       "      <th>NullCount</th>\n",
       "      <th>PerNull</th>\n",
       "    </tr>\n",
       "  </thead>\n",
       "  <tbody>\n",
       "    <tr>\n",
       "      <th>1</th>\n",
       "      <td>Nbedrooms</td>\n",
       "      <td>3</td>\n",
       "      <td>0.042857</td>\n",
       "    </tr>\n",
       "    <tr>\n",
       "      <th>0</th>\n",
       "      <td>Troom</td>\n",
       "      <td>2</td>\n",
       "      <td>0.028571</td>\n",
       "    </tr>\n",
       "    <tr>\n",
       "      <th>2</th>\n",
       "      <td>Nbwashrooms</td>\n",
       "      <td>2</td>\n",
       "      <td>0.028571</td>\n",
       "    </tr>\n",
       "    <tr>\n",
       "      <th>4</th>\n",
       "      <td>Lawn(Area)</td>\n",
       "      <td>2</td>\n",
       "      <td>0.028571</td>\n",
       "    </tr>\n",
       "    <tr>\n",
       "      <th>3</th>\n",
       "      <td>Twashrooms</td>\n",
       "      <td>1</td>\n",
       "      <td>0.014286</td>\n",
       "    </tr>\n",
       "    <tr>\n",
       "      <th>5</th>\n",
       "      <td>API</td>\n",
       "      <td>1</td>\n",
       "      <td>0.014286</td>\n",
       "    </tr>\n",
       "  </tbody>\n",
       "</table>\n",
       "</div>"
      ],
      "text/plain": [
       "       Feature  NullCount   PerNull\n",
       "1    Nbedrooms          3  0.042857\n",
       "0        Troom          2  0.028571\n",
       "2  Nbwashrooms          2  0.028571\n",
       "4   Lawn(Area)          2  0.028571\n",
       "3   Twashrooms          1  0.014286\n",
       "5          API          1  0.014286"
      ]
     },
     "execution_count": 15,
     "metadata": {},
     "output_type": "execute_result"
    }
   ],
   "source": [
    "null_value_per(train)"
   ]
  },
  {
   "cell_type": "code",
   "execution_count": 16,
   "id": "521e204e",
   "metadata": {},
   "outputs": [],
   "source": [
    "train.dropna(inplace=True)"
   ]
  },
  {
   "cell_type": "code",
   "execution_count": 17,
   "id": "02da7df8",
   "metadata": {},
   "outputs": [
    {
     "data": {
      "text/html": [
       "<div>\n",
       "<style scoped>\n",
       "    .dataframe tbody tr th:only-of-type {\n",
       "        vertical-align: middle;\n",
       "    }\n",
       "\n",
       "    .dataframe tbody tr th {\n",
       "        vertical-align: top;\n",
       "    }\n",
       "\n",
       "    .dataframe thead th {\n",
       "        text-align: right;\n",
       "    }\n",
       "</style>\n",
       "<table border=\"1\" class=\"dataframe\">\n",
       "  <thead>\n",
       "    <tr style=\"text-align: right;\">\n",
       "      <th></th>\n",
       "      <th>Feature</th>\n",
       "      <th>NullCount</th>\n",
       "      <th>PerNull</th>\n",
       "    </tr>\n",
       "  </thead>\n",
       "  <tbody>\n",
       "  </tbody>\n",
       "</table>\n",
       "</div>"
      ],
      "text/plain": [
       "Empty DataFrame\n",
       "Columns: [Feature, NullCount, PerNull]\n",
       "Index: []"
      ]
     },
     "execution_count": 17,
     "metadata": {},
     "output_type": "execute_result"
    }
   ],
   "source": [
    "null_value_per(train)"
   ]
  },
  {
   "cell_type": "code",
   "execution_count": 18,
   "id": "4b18b991",
   "metadata": {},
   "outputs": [
    {
     "data": {
      "text/plain": [
       "0"
      ]
     },
     "execution_count": 18,
     "metadata": {},
     "output_type": "execute_result"
    }
   ],
   "source": [
    "### Checking duplicates for train\n",
    "train.duplicated().sum()"
   ]
  },
  {
   "cell_type": "markdown",
   "id": "4e01b005",
   "metadata": {},
   "source": [
    "### Treatment for Test null and duplicates value"
   ]
  },
  {
   "cell_type": "code",
   "execution_count": 19,
   "id": "9af1f4b5",
   "metadata": {},
   "outputs": [
    {
     "data": {
      "text/plain": [
       "id               0\n",
       "Area(total)      0\n",
       "Troom            1\n",
       "Nbedrooms        1\n",
       "Nbwashrooms      1\n",
       "Twashrooms       0\n",
       "roof           653\n",
       "Roof(Area)     653\n",
       "Lawn(Area)       1\n",
       "Nfloors          0\n",
       "API              1\n",
       "ANB              0\n",
       "EXPECTED         0\n",
       "dtype: int64"
      ]
     },
     "execution_count": 19,
     "metadata": {},
     "output_type": "execute_result"
    }
   ],
   "source": [
    "test.isnull().sum()"
   ]
  },
  {
   "cell_type": "code",
   "execution_count": 20,
   "id": "0cc508c2",
   "metadata": {
    "scrolled": true
   },
   "outputs": [
    {
     "data": {
      "text/plain": [
       "6.0    677\n",
       "9.0    669\n",
       "5.0    669\n",
       "7.0    665\n",
       "8.0    618\n",
       "Name: Troom, dtype: int64"
      ]
     },
     "execution_count": 20,
     "metadata": {},
     "output_type": "execute_result"
    }
   ],
   "source": [
    "test['Troom'].value_counts()"
   ]
  },
  {
   "cell_type": "code",
   "execution_count": 21,
   "id": "e333eaff",
   "metadata": {},
   "outputs": [],
   "source": [
    "test['Troom'] = test['Troom'].fillna(6.0)    # Fill null value with mode"
   ]
  },
  {
   "cell_type": "code",
   "execution_count": 22,
   "id": "99672fdf",
   "metadata": {
    "scrolled": true
   },
   "outputs": [
    {
     "data": {
      "text/plain": [
       "5.0    673\n",
       "4.0    654\n",
       "6.0    643\n",
       "3.0    459\n",
       "7.0    449\n",
       "8.0    216\n",
       "2.0    204\n",
       "Name: Nbedrooms, dtype: int64"
      ]
     },
     "execution_count": 22,
     "metadata": {},
     "output_type": "execute_result"
    }
   ],
   "source": [
    "test['Nbedrooms'].value_counts()"
   ]
  },
  {
   "cell_type": "code",
   "execution_count": 23,
   "id": "4a46399a",
   "metadata": {},
   "outputs": [],
   "source": [
    "test['Nbedrooms'] = test['Nbedrooms'].fillna(5.0)   # Fill null value with mode"
   ]
  },
  {
   "cell_type": "code",
   "execution_count": 24,
   "id": "cdaf8dd3",
   "metadata": {},
   "outputs": [
    {
     "data": {
      "text/plain": [
       "4.0    696\n",
       "3.0    680\n",
       "5.0    671\n",
       "6.0    482\n",
       "2.0    461\n",
       "1.0    156\n",
       "7.0    152\n",
       "Name: Nbwashrooms, dtype: int64"
      ]
     },
     "execution_count": 24,
     "metadata": {},
     "output_type": "execute_result"
    }
   ],
   "source": [
    "test['Nbwashrooms'].value_counts()"
   ]
  },
  {
   "cell_type": "code",
   "execution_count": 25,
   "id": "1192a114",
   "metadata": {},
   "outputs": [],
   "source": [
    "test['Nbwashrooms'] = test['Nbwashrooms'].fillna(4.0)  # Fill null value with mode"
   ]
  },
  {
   "cell_type": "code",
   "execution_count": 26,
   "id": "1c0c1d76",
   "metadata": {},
   "outputs": [
    {
     "data": {
      "text/plain": [
       "88.0     97\n",
       "97.0     94\n",
       "87.0     89\n",
       "74.0     89\n",
       "70.0     89\n",
       "100.0    88\n",
       "106.0    88\n",
       "83.0     87\n",
       "101.0    87\n",
       "99.0     87\n",
       "105.0    86\n",
       "109.0    86\n",
       "79.0     86\n",
       "71.0     84\n",
       "98.0     83\n",
       "91.0     83\n",
       "85.0     83\n",
       "110.0    82\n",
       "86.0     81\n",
       "107.0    81\n",
       "95.0     81\n",
       "81.0     81\n",
       "84.0     80\n",
       "102.0    80\n",
       "77.0     80\n",
       "80.0     79\n",
       "92.0     78\n",
       "108.0    78\n",
       "90.0     78\n",
       "73.0     77\n",
       "82.0     75\n",
       "93.0     73\n",
       "78.0     73\n",
       "75.0     73\n",
       "72.0     72\n",
       "104.0    72\n",
       "96.0     72\n",
       "89.0     71\n",
       "103.0    70\n",
       "94.0     64\n",
       "76.0     61\n",
       "Name: Lawn(Area), dtype: int64"
      ]
     },
     "execution_count": 26,
     "metadata": {},
     "output_type": "execute_result"
    }
   ],
   "source": [
    "test['Lawn(Area)'].value_counts()"
   ]
  },
  {
   "cell_type": "code",
   "execution_count": 27,
   "id": "375fc66f",
   "metadata": {},
   "outputs": [],
   "source": [
    "test['Lawn(Area)'] = test['Lawn(Area)'].fillna(88.0)  # Fill null value with mode"
   ]
  },
  {
   "cell_type": "code",
   "execution_count": 28,
   "id": "dda6a180",
   "metadata": {},
   "outputs": [
    {
     "data": {
      "text/plain": [
       "92.0    97\n",
       "95.0    93\n",
       "82.0    92\n",
       "62.0    92\n",
       "74.0    90\n",
       "99.0    90\n",
       "77.0    90\n",
       "68.0    90\n",
       "78.0    89\n",
       "86.0    88\n",
       "85.0    87\n",
       "71.0    84\n",
       "88.0    83\n",
       "89.0    82\n",
       "72.0    82\n",
       "98.0    82\n",
       "79.0    82\n",
       "65.0    82\n",
       "61.0    81\n",
       "66.0    80\n",
       "84.0    79\n",
       "87.0    79\n",
       "75.0    79\n",
       "73.0    79\n",
       "59.0    78\n",
       "96.0    77\n",
       "67.0    77\n",
       "93.0    77\n",
       "91.0    75\n",
       "94.0    75\n",
       "80.0    74\n",
       "69.0    74\n",
       "76.0    74\n",
       "90.0    74\n",
       "60.0    73\n",
       "63.0    73\n",
       "81.0    71\n",
       "97.0    70\n",
       "70.0    69\n",
       "64.0    69\n",
       "83.0    66\n",
       "Name: API, dtype: int64"
      ]
     },
     "execution_count": 28,
     "metadata": {},
     "output_type": "execute_result"
    }
   ],
   "source": [
    "test['API'].value_counts()"
   ]
  },
  {
   "cell_type": "code",
   "execution_count": 29,
   "id": "6f6c02ee",
   "metadata": {},
   "outputs": [],
   "source": [
    "test['API'] = test['API'].fillna(92.0)   # Fill null value with mode"
   ]
  },
  {
   "cell_type": "code",
   "execution_count": 30,
   "id": "5e31a522",
   "metadata": {
    "scrolled": true
   },
   "outputs": [
    {
     "data": {
      "text/plain": [
       "NO     676\n",
       "no     664\n",
       "YES    656\n",
       "yes    650\n",
       "Name: roof, dtype: int64"
      ]
     },
     "execution_count": 30,
     "metadata": {},
     "output_type": "execute_result"
    }
   ],
   "source": [
    "test['roof'].value_counts()"
   ]
  },
  {
   "cell_type": "code",
   "execution_count": 31,
   "id": "6535dd4e",
   "metadata": {},
   "outputs": [],
   "source": [
    "test['roof'] = test['roof'].replace('NO', 'no')\n",
    "test['roof'] = test['roof'].replace('YES', 'yes')"
   ]
  },
  {
   "cell_type": "code",
   "execution_count": 32,
   "id": "b70d4371",
   "metadata": {},
   "outputs": [
    {
     "data": {
      "text/plain": [
       "no     1340\n",
       "yes    1306\n",
       "Name: roof, dtype: int64"
      ]
     },
     "execution_count": 32,
     "metadata": {},
     "output_type": "execute_result"
    }
   ],
   "source": [
    "test['roof'].value_counts()"
   ]
  },
  {
   "cell_type": "code",
   "execution_count": 33,
   "id": "49fb2916",
   "metadata": {},
   "outputs": [
    {
     "data": {
      "text/html": [
       "<div>\n",
       "<style scoped>\n",
       "    .dataframe tbody tr th:only-of-type {\n",
       "        vertical-align: middle;\n",
       "    }\n",
       "\n",
       "    .dataframe tbody tr th {\n",
       "        vertical-align: top;\n",
       "    }\n",
       "\n",
       "    .dataframe thead th {\n",
       "        text-align: right;\n",
       "    }\n",
       "</style>\n",
       "<table border=\"1\" class=\"dataframe\">\n",
       "  <thead>\n",
       "    <tr style=\"text-align: right;\">\n",
       "      <th></th>\n",
       "      <th>Feature</th>\n",
       "      <th>NullCount</th>\n",
       "      <th>PerNull</th>\n",
       "    </tr>\n",
       "  </thead>\n",
       "  <tbody>\n",
       "    <tr>\n",
       "      <th>0</th>\n",
       "      <td>roof</td>\n",
       "      <td>653</td>\n",
       "      <td>19.793877</td>\n",
       "    </tr>\n",
       "    <tr>\n",
       "      <th>1</th>\n",
       "      <td>Roof(Area)</td>\n",
       "      <td>653</td>\n",
       "      <td>19.793877</td>\n",
       "    </tr>\n",
       "  </tbody>\n",
       "</table>\n",
       "</div>"
      ],
      "text/plain": [
       "      Feature  NullCount    PerNull\n",
       "0        roof        653  19.793877\n",
       "1  Roof(Area)        653  19.793877"
      ]
     },
     "execution_count": 33,
     "metadata": {},
     "output_type": "execute_result"
    }
   ],
   "source": [
    "nv_per = null_value_per(test)\n",
    "nv_per"
   ]
  },
  {
   "cell_type": "code",
   "execution_count": 34,
   "id": "2cc66302",
   "metadata": {},
   "outputs": [
    {
     "data": {
      "text/html": [
       "<div>\n",
       "<style scoped>\n",
       "    .dataframe tbody tr th:only-of-type {\n",
       "        vertical-align: middle;\n",
       "    }\n",
       "\n",
       "    .dataframe tbody tr th {\n",
       "        vertical-align: top;\n",
       "    }\n",
       "\n",
       "    .dataframe thead th {\n",
       "        text-align: right;\n",
       "    }\n",
       "</style>\n",
       "<table border=\"1\" class=\"dataframe\">\n",
       "  <thead>\n",
       "    <tr style=\"text-align: right;\">\n",
       "      <th></th>\n",
       "      <th>Feature</th>\n",
       "      <th>NullCount</th>\n",
       "      <th>PerNull</th>\n",
       "    </tr>\n",
       "  </thead>\n",
       "  <tbody>\n",
       "    <tr>\n",
       "      <th>0</th>\n",
       "      <td>Roof(Area)</td>\n",
       "      <td>653</td>\n",
       "      <td>19.793877</td>\n",
       "    </tr>\n",
       "  </tbody>\n",
       "</table>\n",
       "</div>"
      ],
      "text/plain": [
       "      Feature  NullCount    PerNull\n",
       "0  Roof(Area)        653  19.793877"
      ]
     },
     "execution_count": 34,
     "metadata": {},
     "output_type": "execute_result"
    }
   ],
   "source": [
    "test['roof'] = test['roof'].fillna('no')\n",
    "null_value_per(test)"
   ]
  },
  {
   "cell_type": "code",
   "execution_count": 35,
   "id": "19da7a41",
   "metadata": {},
   "outputs": [],
   "source": [
    "test['Roof(Area)'] = test['Roof(Area)'].fillna(0.0)"
   ]
  },
  {
   "cell_type": "code",
   "execution_count": 36,
   "id": "665a0c4a",
   "metadata": {},
   "outputs": [
    {
     "data": {
      "text/plain": [
       "0"
      ]
     },
     "execution_count": 36,
     "metadata": {},
     "output_type": "execute_result"
    }
   ],
   "source": [
    "### Checking duplicates for train\n",
    "train.duplicated().sum()"
   ]
  },
  {
   "cell_type": "markdown",
   "id": "3465e053",
   "metadata": {},
   "source": [
    "### EDA"
   ]
  },
  {
   "cell_type": "code",
   "execution_count": 37,
   "id": "a4ed5a9d",
   "metadata": {},
   "outputs": [
    {
     "name": "stderr",
     "output_type": "stream",
     "text": [
      "D:\\Anaconda\\lib\\site-packages\\seaborn\\_decorators.py:36: FutureWarning: Pass the following variable as a keyword arg: x. From version 0.12, the only valid positional argument will be `data`, and passing other arguments without an explicit keyword will result in an error or misinterpretation.\n",
      "  warnings.warn(\n"
     ]
    },
    {
     "data": {
      "image/png": "[encoded data removed]",
      "text/plain": [
       "<Figure size 640x480 with 1 Axes>"
      ]
     },
     "metadata": {},
     "output_type": "display_data"
    }
   ],
   "source": [
    "sns.countplot(train['roof'])\n",
    "plt.show()"
   ]
  },
  {
   "cell_type": "markdown",
   "id": "b494ca20",
   "metadata": {},
   "source": [
    "Inference\n",
    "1) As we see according to the data House with no roof has more counts"
   ]
  },
  {
   "cell_type": "markdown",
   "id": "32953ea4",
   "metadata": {},
   "source": [
    "### Correlation"
   ]
  },
  {
   "cell_type": "code",
   "execution_count": 38,
   "id": "eea0ee45",
   "metadata": {
    "scrolled": true
   },
   "outputs": [
    {
     "name": "stdout",
     "output_type": "stream",
     "text": [
      "Index(['id', 'Area(total)', 'Troom', 'Nbedrooms', 'Nbwashrooms', 'Twashrooms',\n",
      "       'Roof(Area)', 'Lawn(Area)', 'Nfloors', 'API', 'ANB'],\n",
      "      dtype='object')\n"
     ]
    }
   ],
   "source": [
    "num_cols = train.dtypes[train.dtypes!='object'].index\n",
    "print(num_cols)"
   ]
  },
  {
   "cell_type": "code",
   "execution_count": 39,
   "id": "06aa1723",
   "metadata": {},
   "outputs": [
    {
     "data": {
      "image/png": "[encoded data removed]",
      "text/plain": [
       "<Figure size 2000x2000 with 2 Axes>"
      ]
     },
     "metadata": {},
     "output_type": "display_data"
    }
   ],
   "source": [
    "corr = train[num_cols].corr()\n",
    "\n",
    "plt.figure(figsize=(20,20))\n",
    "sns.heatmap(corr,annot=True)\n",
    "plt.show()"
   ]
  },
  {
   "cell_type": "code",
   "execution_count": 40,
   "id": "ba5bafbf",
   "metadata": {},
   "outputs": [
    {
     "data": {
      "image/png": "[encoded data removed]",
      "text/plain": [
       "<Figure size 2000x2000 with 2 Axes>"
      ]
     },
     "metadata": {},
     "output_type": "display_data"
    }
   ],
   "source": [
    "plt.figure(figsize=(20,20))\n",
    "sns.heatmap(corr[abs(corr)>=0.7],annot=True)\n",
    "plt.show()"
   ]
  },
  {
   "cell_type": "markdown",
   "id": "adc80c7d",
   "metadata": {},
   "source": [
    "### Inference\n",
    "1) According to the data Nbedrooms and Nbwashrooms are highly correlated <br>\n",
    "2) Twashrooms and Nbedrooms are highly correlated <br>\n",
    "3) Twashrooms and Nbwashrooms are highly correlated <br>\n",
    "4) NFloors and Twashrooms are highly correlated <br>\n",
    "5) NFloors and Nbwashrooms are highly correlated <br>"
   ]
  },
  {
   "cell_type": "markdown",
   "id": "6d42f9b3",
   "metadata": {},
   "source": [
    "### Outlier Treatment"
   ]
  },
  {
   "cell_type": "code",
   "execution_count": 41,
   "id": "5c8ad998",
   "metadata": {},
   "outputs": [],
   "source": [
    "train.drop('id',axis=1,inplace=True)"
   ]
  },
  {
   "cell_type": "code",
   "execution_count": 42,
   "id": "0cec56a4",
   "metadata": {},
   "outputs": [
    {
     "data": {
      "text/html": [
       "<div>\n",
       "<style scoped>\n",
       "    .dataframe tbody tr th:only-of-type {\n",
       "        vertical-align: middle;\n",
       "    }\n",
       "\n",
       "    .dataframe tbody tr th {\n",
       "        vertical-align: top;\n",
       "    }\n",
       "\n",
       "    .dataframe thead th {\n",
       "        text-align: right;\n",
       "    }\n",
       "</style>\n",
       "<table border=\"1\" class=\"dataframe\">\n",
       "  <thead>\n",
       "    <tr style=\"text-align: right;\">\n",
       "      <th></th>\n",
       "      <th>count</th>\n",
       "      <th>mean</th>\n",
       "      <th>std</th>\n",
       "      <th>min</th>\n",
       "      <th>1%</th>\n",
       "      <th>2%</th>\n",
       "      <th>3%</th>\n",
       "      <th>5%</th>\n",
       "      <th>50%</th>\n",
       "      <th>95%</th>\n",
       "      <th>96%</th>\n",
       "      <th>97%</th>\n",
       "      <th>98%</th>\n",
       "      <th>99%</th>\n",
       "      <th>max</th>\n",
       "    </tr>\n",
       "  </thead>\n",
       "  <tbody>\n",
       "    <tr>\n",
       "      <th>Area(total)</th>\n",
       "      <td>6989.0</td>\n",
       "      <td>325.223065</td>\n",
       "      <td>20.547846</td>\n",
       "      <td>290.0</td>\n",
       "      <td>290.0</td>\n",
       "      <td>291.0</td>\n",
       "      <td>292.0</td>\n",
       "      <td>293.0</td>\n",
       "      <td>326.0</td>\n",
       "      <td>357.0</td>\n",
       "      <td>358.0</td>\n",
       "      <td>358.0</td>\n",
       "      <td>359.0</td>\n",
       "      <td>360.0</td>\n",
       "      <td>360.0</td>\n",
       "    </tr>\n",
       "    <tr>\n",
       "      <th>Troom</th>\n",
       "      <td>6989.0</td>\n",
       "      <td>7.012448</td>\n",
       "      <td>1.420066</td>\n",
       "      <td>5.0</td>\n",
       "      <td>5.0</td>\n",
       "      <td>5.0</td>\n",
       "      <td>5.0</td>\n",
       "      <td>5.0</td>\n",
       "      <td>7.0</td>\n",
       "      <td>9.0</td>\n",
       "      <td>9.0</td>\n",
       "      <td>9.0</td>\n",
       "      <td>9.0</td>\n",
       "      <td>9.0</td>\n",
       "      <td>9.0</td>\n",
       "    </tr>\n",
       "    <tr>\n",
       "      <th>Nbedrooms</th>\n",
       "      <td>6989.0</td>\n",
       "      <td>4.992417</td>\n",
       "      <td>1.653542</td>\n",
       "      <td>2.0</td>\n",
       "      <td>2.0</td>\n",
       "      <td>2.0</td>\n",
       "      <td>2.0</td>\n",
       "      <td>2.0</td>\n",
       "      <td>5.0</td>\n",
       "      <td>8.0</td>\n",
       "      <td>8.0</td>\n",
       "      <td>8.0</td>\n",
       "      <td>8.0</td>\n",
       "      <td>8.0</td>\n",
       "      <td>8.0</td>\n",
       "    </tr>\n",
       "    <tr>\n",
       "      <th>Nbwashrooms</th>\n",
       "      <td>6989.0</td>\n",
       "      <td>4.004865</td>\n",
       "      <td>1.597071</td>\n",
       "      <td>1.0</td>\n",
       "      <td>1.0</td>\n",
       "      <td>1.0</td>\n",
       "      <td>1.0</td>\n",
       "      <td>1.0</td>\n",
       "      <td>4.0</td>\n",
       "      <td>7.0</td>\n",
       "      <td>7.0</td>\n",
       "      <td>7.0</td>\n",
       "      <td>7.0</td>\n",
       "      <td>7.0</td>\n",
       "      <td>7.0</td>\n",
       "    </tr>\n",
       "    <tr>\n",
       "      <th>Twashrooms</th>\n",
       "      <td>6989.0</td>\n",
       "      <td>5.501789</td>\n",
       "      <td>1.509142</td>\n",
       "      <td>3.0</td>\n",
       "      <td>3.0</td>\n",
       "      <td>3.0</td>\n",
       "      <td>3.0</td>\n",
       "      <td>3.0</td>\n",
       "      <td>5.0</td>\n",
       "      <td>8.0</td>\n",
       "      <td>8.0</td>\n",
       "      <td>8.0</td>\n",
       "      <td>8.0</td>\n",
       "      <td>8.0</td>\n",
       "      <td>8.0</td>\n",
       "    </tr>\n",
       "    <tr>\n",
       "      <th>Roof(Area)</th>\n",
       "      <td>6989.0</td>\n",
       "      <td>38.044642</td>\n",
       "      <td>47.628034</td>\n",
       "      <td>0.0</td>\n",
       "      <td>0.0</td>\n",
       "      <td>0.0</td>\n",
       "      <td>0.0</td>\n",
       "      <td>0.0</td>\n",
       "      <td>0.0</td>\n",
       "      <td>114.0</td>\n",
       "      <td>115.0</td>\n",
       "      <td>117.0</td>\n",
       "      <td>118.0</td>\n",
       "      <td>119.0</td>\n",
       "      <td>120.0</td>\n",
       "    </tr>\n",
       "    <tr>\n",
       "      <th>Lawn(Area)</th>\n",
       "      <td>6989.0</td>\n",
       "      <td>89.963514</td>\n",
       "      <td>11.812621</td>\n",
       "      <td>70.0</td>\n",
       "      <td>70.0</td>\n",
       "      <td>70.0</td>\n",
       "      <td>71.0</td>\n",
       "      <td>71.0</td>\n",
       "      <td>90.0</td>\n",
       "      <td>108.0</td>\n",
       "      <td>109.0</td>\n",
       "      <td>109.0</td>\n",
       "      <td>110.0</td>\n",
       "      <td>110.0</td>\n",
       "      <td>110.0</td>\n",
       "    </tr>\n",
       "    <tr>\n",
       "      <th>Nfloors</th>\n",
       "      <td>6989.0</td>\n",
       "      <td>4.510087</td>\n",
       "      <td>1.831424</td>\n",
       "      <td>1.0</td>\n",
       "      <td>1.0</td>\n",
       "      <td>1.0</td>\n",
       "      <td>1.0</td>\n",
       "      <td>1.0</td>\n",
       "      <td>5.0</td>\n",
       "      <td>8.0</td>\n",
       "      <td>8.0</td>\n",
       "      <td>8.0</td>\n",
       "      <td>8.0</td>\n",
       "      <td>8.0</td>\n",
       "      <td>8.0</td>\n",
       "    </tr>\n",
       "    <tr>\n",
       "      <th>API</th>\n",
       "      <td>6989.0</td>\n",
       "      <td>78.972814</td>\n",
       "      <td>11.850920</td>\n",
       "      <td>59.0</td>\n",
       "      <td>59.0</td>\n",
       "      <td>59.0</td>\n",
       "      <td>60.0</td>\n",
       "      <td>61.0</td>\n",
       "      <td>79.0</td>\n",
       "      <td>97.0</td>\n",
       "      <td>98.0</td>\n",
       "      <td>98.0</td>\n",
       "      <td>99.0</td>\n",
       "      <td>99.0</td>\n",
       "      <td>99.0</td>\n",
       "    </tr>\n",
       "    <tr>\n",
       "      <th>ANB</th>\n",
       "      <td>6989.0</td>\n",
       "      <td>3.494778</td>\n",
       "      <td>1.700662</td>\n",
       "      <td>1.0</td>\n",
       "      <td>1.0</td>\n",
       "      <td>1.0</td>\n",
       "      <td>1.0</td>\n",
       "      <td>1.0</td>\n",
       "      <td>3.0</td>\n",
       "      <td>6.0</td>\n",
       "      <td>6.0</td>\n",
       "      <td>6.0</td>\n",
       "      <td>6.0</td>\n",
       "      <td>6.0</td>\n",
       "      <td>6.0</td>\n",
       "    </tr>\n",
       "  </tbody>\n",
       "</table>\n",
       "</div>"
      ],
      "text/plain": [
       "              count        mean        std    min     1%     2%     3%     5%  \\\n",
       "Area(total)  6989.0  325.223065  20.547846  290.0  290.0  291.0  292.0  293.0   \n",
       "Troom        6989.0    7.012448   1.420066    5.0    5.0    5.0    5.0    5.0   \n",
       "Nbedrooms    6989.0    4.992417   1.653542    2.0    2.0    2.0    2.0    2.0   \n",
       "Nbwashrooms  6989.0    4.004865   1.597071    1.0    1.0    1.0    1.0    1.0   \n",
       "Twashrooms   6989.0    5.501789   1.509142    3.0    3.0    3.0    3.0    3.0   \n",
       "Roof(Area)   6989.0   38.044642  47.628034    0.0    0.0    0.0    0.0    0.0   \n",
       "Lawn(Area)   6989.0   89.963514  11.812621   70.0   70.0   70.0   71.0   71.0   \n",
       "Nfloors      6989.0    4.510087   1.831424    1.0    1.0    1.0    1.0    1.0   \n",
       "API          6989.0   78.972814  11.850920   59.0   59.0   59.0   60.0   61.0   \n",
       "ANB          6989.0    3.494778   1.700662    1.0    1.0    1.0    1.0    1.0   \n",
       "\n",
       "               50%    95%    96%    97%    98%    99%    max  \n",
       "Area(total)  326.0  357.0  358.0  358.0  359.0  360.0  360.0  \n",
       "Troom          7.0    9.0    9.0    9.0    9.0    9.0    9.0  \n",
       "Nbedrooms      5.0    8.0    8.0    8.0    8.0    8.0    8.0  \n",
       "Nbwashrooms    4.0    7.0    7.0    7.0    7.0    7.0    7.0  \n",
       "Twashrooms     5.0    8.0    8.0    8.0    8.0    8.0    8.0  \n",
       "Roof(Area)     0.0  114.0  115.0  117.0  118.0  119.0  120.0  \n",
       "Lawn(Area)    90.0  108.0  109.0  109.0  110.0  110.0  110.0  \n",
       "Nfloors        5.0    8.0    8.0    8.0    8.0    8.0    8.0  \n",
       "API           79.0   97.0   98.0   98.0   99.0   99.0   99.0  \n",
       "ANB            3.0    6.0    6.0    6.0    6.0    6.0    6.0  "
      ]
     },
     "execution_count": 42,
     "metadata": {},
     "output_type": "execute_result"
    }
   ],
   "source": [
    "train.describe(percentiles=[0.01,0.02,0.03,0.05,0.95,0.96,0.97,0.98,0.99]).T"
   ]
  },
  {
   "cell_type": "markdown",
   "id": "2a055ca2",
   "metadata": {},
   "source": [
    "### There are no outliers in the data"
   ]
  },
  {
   "cell_type": "code",
   "execution_count": 43,
   "id": "19e1a35c",
   "metadata": {},
   "outputs": [
    {
     "name": "stdout",
     "output_type": "stream",
     "text": [
      "<class 'pandas.core.frame.DataFrame'>\n",
      "Int64Index: 6989 entries, 0 to 6999\n",
      "Data columns (total 13 columns):\n",
      " #   Column       Non-Null Count  Dtype  \n",
      "---  ------       --------------  -----  \n",
      " 0   Area(total)  6989 non-null   int64  \n",
      " 1   Troom        6989 non-null   float64\n",
      " 2   Nbedrooms    6989 non-null   float64\n",
      " 3   Nbwashrooms  6989 non-null   float64\n",
      " 4   Twashrooms   6989 non-null   float64\n",
      " 5   roof         6989 non-null   object \n",
      " 6   Roof(Area)   6989 non-null   float64\n",
      " 7   Lawn(Area)   6989 non-null   float64\n",
      " 8   Nfloors      6989 non-null   int64  \n",
      " 9   API          6989 non-null   float64\n",
      " 10  ANB          6989 non-null   int64  \n",
      " 11  Grade        6989 non-null   object \n",
      " 12  EXPECTED     6989 non-null   object \n",
      "dtypes: float64(7), int64(3), object(3)\n",
      "memory usage: 764.4+ KB\n"
     ]
    }
   ],
   "source": [
    "train.info()         # As we can see Expected is in string form so we have to change this in int"
   ]
  },
  {
   "cell_type": "markdown",
   "id": "5daa57ee",
   "metadata": {},
   "source": [
    "### Changing datatype of Expected in both train and test"
   ]
  },
  {
   "cell_type": "code",
   "execution_count": 44,
   "id": "f30c1bb7",
   "metadata": {},
   "outputs": [],
   "source": [
    "train['EXPECTED'] = train['EXPECTED'].str[:-1]   # removing dollars from expected"
   ]
  },
  {
   "cell_type": "code",
   "execution_count": 45,
   "id": "4a0ede30",
   "metadata": {},
   "outputs": [],
   "source": [
    "train['EXPECTED'] = train['EXPECTED'].astype(int)   # converting string into int"
   ]
  },
  {
   "cell_type": "code",
   "execution_count": 46,
   "id": "3f1a7699",
   "metadata": {},
   "outputs": [
    {
     "data": {
      "text/plain": [
       "C    2923\n",
       "D    2126\n",
       "B    1472\n",
       "A     442\n",
       "E      26\n",
       "Name: Grade, dtype: int64"
      ]
     },
     "execution_count": 46,
     "metadata": {},
     "output_type": "execute_result"
    }
   ],
   "source": [
    "train['Grade'].value_counts()     "
   ]
  },
  {
   "cell_type": "code",
   "execution_count": 47,
   "id": "c2a0b0b3",
   "metadata": {},
   "outputs": [],
   "source": [
    "# Do label encoding with replace of target variable\n",
    "\n",
    "# train['Grade'] = train['Grade'].replace('A', 1)\n",
    "# train['Grade'] = train['Grade'].replace('B', 2)\n",
    "# train['Grade'] = train['Grade'].replace('C', 3)\n",
    "# train['Grade'] = train['Grade'].replace('D', 4)\n",
    "# train['Grade'] = train['Grade'].replace('E', 5)\n"
   ]
  },
  {
   "cell_type": "code",
   "execution_count": 48,
   "id": "d6ef1d31",
   "metadata": {
    "scrolled": true
   },
   "outputs": [
    {
     "data": {
      "text/plain": [
       "C    2923\n",
       "D    2126\n",
       "B    1472\n",
       "A     442\n",
       "E      26\n",
       "Name: Grade, dtype: int64"
      ]
     },
     "execution_count": 48,
     "metadata": {},
     "output_type": "execute_result"
    }
   ],
   "source": [
    "train['Grade'].value_counts()"
   ]
  },
  {
   "cell_type": "code",
   "execution_count": 49,
   "id": "16521387",
   "metadata": {
    "scrolled": true
   },
   "outputs": [
    {
     "data": {
      "text/plain": [
       "no     4204\n",
       "yes    2785\n",
       "Name: roof, dtype: int64"
      ]
     },
     "execution_count": 49,
     "metadata": {},
     "output_type": "execute_result"
    }
   ],
   "source": [
    "train['roof'].value_counts()"
   ]
  },
  {
   "cell_type": "code",
   "execution_count": 50,
   "id": "420ed6c7",
   "metadata": {},
   "outputs": [],
   "source": [
    "train['roof'] = train['roof'].replace('no', 0)    # 0 - no ,1- yes\n",
    "train['roof'] = train['roof'].replace('yes', 1)"
   ]
  },
  {
   "cell_type": "code",
   "execution_count": 51,
   "id": "a7b473e5",
   "metadata": {},
   "outputs": [
    {
     "name": "stdout",
     "output_type": "stream",
     "text": [
      "<class 'pandas.core.frame.DataFrame'>\n",
      "RangeIndex: 3299 entries, 0 to 3298\n",
      "Data columns (total 13 columns):\n",
      " #   Column       Non-Null Count  Dtype  \n",
      "---  ------       --------------  -----  \n",
      " 0   id           3299 non-null   int64  \n",
      " 1   Area(total)  3299 non-null   int64  \n",
      " 2   Troom        3299 non-null   float64\n",
      " 3   Nbedrooms    3299 non-null   float64\n",
      " 4   Nbwashrooms  3299 non-null   float64\n",
      " 5   Twashrooms   3299 non-null   int64  \n",
      " 6   roof         3299 non-null   object \n",
      " 7   Roof(Area)   3299 non-null   float64\n",
      " 8   Lawn(Area)   3299 non-null   float64\n",
      " 9   Nfloors      3299 non-null   int64  \n",
      " 10  API          3299 non-null   float64\n",
      " 11  ANB          3299 non-null   int64  \n",
      " 12  EXPECTED     3299 non-null   object \n",
      "dtypes: float64(6), int64(5), object(2)\n",
      "memory usage: 335.2+ KB\n"
     ]
    }
   ],
   "source": [
    "test.info()"
   ]
  },
  {
   "cell_type": "code",
   "execution_count": 52,
   "id": "f278d3e8",
   "metadata": {},
   "outputs": [],
   "source": [
    "test['EXPECTED'] = test['EXPECTED'].str[:-1] \n",
    "test['EXPECTED'] = test['EXPECTED'].astype(int)"
   ]
  },
  {
   "cell_type": "code",
   "execution_count": 53,
   "id": "0bbccfaa",
   "metadata": {},
   "outputs": [
    {
     "data": {
      "text/plain": [
       "no     1993\n",
       "yes    1306\n",
       "Name: roof, dtype: int64"
      ]
     },
     "execution_count": 53,
     "metadata": {},
     "output_type": "execute_result"
    }
   ],
   "source": [
    "test['roof'].value_counts()     # perform label encoding for test data"
   ]
  },
  {
   "cell_type": "code",
   "execution_count": 54,
   "id": "b5c285c7",
   "metadata": {},
   "outputs": [],
   "source": [
    "test['roof'] = test['roof'].replace('no', 0)    # 0 - no ,1- yes\n",
    "test['roof'] = test['roof'].replace('yes', 1)"
   ]
  },
  {
   "cell_type": "code",
   "execution_count": 55,
   "id": "e23c9b2a",
   "metadata": {},
   "outputs": [
    {
     "data": {
      "text/plain": [
       "0    1993\n",
       "1    1306\n",
       "Name: roof, dtype: int64"
      ]
     },
     "execution_count": 55,
     "metadata": {},
     "output_type": "execute_result"
    }
   ],
   "source": [
    "test['roof'].value_counts()"
   ]
  },
  {
   "cell_type": "markdown",
   "id": "372dfa8d",
   "metadata": {},
   "source": [
    "### Selecting x and y"
   ]
  },
  {
   "cell_type": "code",
   "execution_count": 56,
   "id": "f8ee5cc7",
   "metadata": {},
   "outputs": [
    {
     "name": "stdout",
     "output_type": "stream",
     "text": [
      "(6989, 12)\n",
      "(6989,)\n"
     ]
    }
   ],
   "source": [
    "x = train.drop(['Grade'],axis=1)\n",
    "y = train['Grade']\n",
    "print(x.shape)\n",
    "print(y.shape)"
   ]
  },
  {
   "cell_type": "code",
   "execution_count": 57,
   "id": "ba0dd626",
   "metadata": {},
   "outputs": [
    {
     "data": {
      "text/plain": [
       "Index(['Area(total)', 'Troom', 'Nbedrooms', 'Nbwashrooms', 'Twashrooms',\n",
       "       'roof', 'Roof(Area)', 'Lawn(Area)', 'Nfloors', 'API', 'ANB',\n",
       "       'EXPECTED'],\n",
       "      dtype='object')"
      ]
     },
     "execution_count": 57,
     "metadata": {},
     "output_type": "execute_result"
    }
   ],
   "source": [
    "x.columns"
   ]
  },
  {
   "cell_type": "code",
   "execution_count": 58,
   "id": "3bc5014b",
   "metadata": {},
   "outputs": [],
   "source": [
    "from sklearn.model_selection import train_test_split "
   ]
  },
  {
   "cell_type": "code",
   "execution_count": 59,
   "id": "5cf4474a",
   "metadata": {},
   "outputs": [
    {
     "name": "stdout",
     "output_type": "stream",
     "text": [
      "(4892, 12)\n",
      "(2097, 12)\n",
      "(4892,)\n",
      "(2097,)\n"
     ]
    }
   ],
   "source": [
    "x_train,x_test,y_train,y_test = train_test_split(x,y,test_size=0.30,random_state=42)\n",
    "print(x_train.shape)\n",
    "print(x_test.shape)\n",
    "print(y_train.shape)\n",
    "print(y_test.shape)"
   ]
  },
  {
   "cell_type": "code",
   "execution_count": 60,
   "id": "21eeef58",
   "metadata": {},
   "outputs": [],
   "source": [
    "def eval_model(model,x_train,y_train,x_test,y_test,mname):\n",
    "    model.fit(x_train,y_train)\n",
    "    ypred = model.predict(x_test)\n",
    "    train_acc = model.score(x_train,y_train)\n",
    "    test_acc = model.score(x_test,y_test)\n",
    "    cm = confusion_matrix(y_test,ypred)\n",
    "    cr = classification_report(y_test,ypred)\n",
    "    res_df = pd.DataFrame({'Train_Acc':train_acc,'Test_Acc':test_acc},index=[mname])\n",
    "    print('Confusion_Matrix\\n',cm)\n",
    "    print('Classification Report\\n',cr)\n",
    "    return res_df"
   ]
  },
  {
   "cell_type": "code",
   "execution_count": 61,
   "id": "ad790f82",
   "metadata": {},
   "outputs": [],
   "source": [
    "from sklearn.tree import DecisionTreeClassifier\n",
    "from sklearn.ensemble import RandomForestClassifier, AdaBoostClassifier\n",
    "from sklearn.metrics import confusion_matrix, classification_report"
   ]
  },
  {
   "cell_type": "markdown",
   "id": "dba52811",
   "metadata": {},
   "source": [
    "### Decision Tree Classifier"
   ]
  },
  {
   "cell_type": "code",
   "execution_count": 62,
   "id": "23425dd7",
   "metadata": {},
   "outputs": [
    {
     "name": "stdout",
     "output_type": "stream",
     "text": [
      "Confusion_Matrix\n",
      " [[ 96  38   0   0   0]\n",
      " [ 39 323  76   0   0]\n",
      " [  2 108 704  90   0]\n",
      " [  0   0  97 512   1]\n",
      " [  0   0   0   7   4]]\n",
      "Classification Report\n",
      "               precision    recall  f1-score   support\n",
      "\n",
      "           A       0.70      0.72      0.71       134\n",
      "           B       0.69      0.74      0.71       438\n",
      "           C       0.80      0.78      0.79       904\n",
      "           D       0.84      0.84      0.84       610\n",
      "           E       0.80      0.36      0.50        11\n",
      "\n",
      "    accuracy                           0.78      2097\n",
      "   macro avg       0.77      0.69      0.71      2097\n",
      "weighted avg       0.78      0.78      0.78      2097\n",
      "\n"
     ]
    },
    {
     "data": {
      "text/html": [
       "<div>\n",
       "<style scoped>\n",
       "    .dataframe tbody tr th:only-of-type {\n",
       "        vertical-align: middle;\n",
       "    }\n",
       "\n",
       "    .dataframe tbody tr th {\n",
       "        vertical-align: top;\n",
       "    }\n",
       "\n",
       "    .dataframe thead th {\n",
       "        text-align: right;\n",
       "    }\n",
       "</style>\n",
       "<table border=\"1\" class=\"dataframe\">\n",
       "  <thead>\n",
       "    <tr style=\"text-align: right;\">\n",
       "      <th></th>\n",
       "      <th>Train_Acc</th>\n",
       "      <th>Test_Acc</th>\n",
       "    </tr>\n",
       "  </thead>\n",
       "  <tbody>\n",
       "    <tr>\n",
       "      <th>DTree</th>\n",
       "      <td>0.910875</td>\n",
       "      <td>0.781593</td>\n",
       "    </tr>\n",
       "  </tbody>\n",
       "</table>\n",
       "</div>"
      ],
      "text/plain": [
       "       Train_Acc  Test_Acc\n",
       "DTree   0.910875  0.781593"
      ]
     },
     "execution_count": 62,
     "metadata": {},
     "output_type": "execute_result"
    }
   ],
   "source": [
    "dt = DecisionTreeClassifier(criterion='gini',max_depth=12,min_samples_split=15)\n",
    "dt_res = eval_model(dt,x_train,y_train,x_test,y_test,'DTree')\n",
    "dt_res"
   ]
  },
  {
   "cell_type": "markdown",
   "id": "c256a7f6",
   "metadata": {},
   "source": [
    "#### Inference -  As we can see it it highly overfitting"
   ]
  },
  {
   "cell_type": "markdown",
   "id": "0c14dba5",
   "metadata": {},
   "source": [
    "### Random Forest Classifier"
   ]
  },
  {
   "cell_type": "code",
   "execution_count": 63,
   "id": "a3a7b78e",
   "metadata": {
    "scrolled": true
   },
   "outputs": [
    {
     "name": "stdout",
     "output_type": "stream",
     "text": [
      "Confusion_Matrix\n",
      " [[ 99  35   0   0   0]\n",
      " [  9 355  74   0   0]\n",
      " [  0  52 789  63   0]\n",
      " [  0   0  62 548   0]\n",
      " [  0   0   0  10   1]]\n",
      "Classification Report\n",
      "               precision    recall  f1-score   support\n",
      "\n",
      "           A       0.92      0.74      0.82       134\n",
      "           B       0.80      0.81      0.81       438\n",
      "           C       0.85      0.87      0.86       904\n",
      "           D       0.88      0.90      0.89       610\n",
      "           E       1.00      0.09      0.17        11\n",
      "\n",
      "    accuracy                           0.85      2097\n",
      "   macro avg       0.89      0.68      0.71      2097\n",
      "weighted avg       0.86      0.85      0.85      2097\n",
      "\n"
     ]
    },
    {
     "data": {
      "text/html": [
       "<div>\n",
       "<style scoped>\n",
       "    .dataframe tbody tr th:only-of-type {\n",
       "        vertical-align: middle;\n",
       "    }\n",
       "\n",
       "    .dataframe tbody tr th {\n",
       "        vertical-align: top;\n",
       "    }\n",
       "\n",
       "    .dataframe thead th {\n",
       "        text-align: right;\n",
       "    }\n",
       "</style>\n",
       "<table border=\"1\" class=\"dataframe\">\n",
       "  <thead>\n",
       "    <tr style=\"text-align: right;\">\n",
       "      <th></th>\n",
       "      <th>Train_Acc</th>\n",
       "      <th>Test_Acc</th>\n",
       "    </tr>\n",
       "  </thead>\n",
       "  <tbody>\n",
       "    <tr>\n",
       "      <th>Random Forest</th>\n",
       "      <td>0.934587</td>\n",
       "      <td>0.854554</td>\n",
       "    </tr>\n",
       "  </tbody>\n",
       "</table>\n",
       "</div>"
      ],
      "text/plain": [
       "               Train_Acc  Test_Acc\n",
       "Random Forest   0.934587  0.854554"
      ]
     },
     "execution_count": 63,
     "metadata": {},
     "output_type": "execute_result"
    }
   ],
   "source": [
    "rf = RandomForestClassifier(n_estimators=80,criterion='gini',max_depth=12,min_samples_split=15)\n",
    "rf_res = eval_model(rf,x_train,y_train,x_test,y_test,'Random Forest')\n",
    "rf_res"
   ]
  },
  {
   "cell_type": "markdown",
   "id": "65950ac7",
   "metadata": {},
   "source": [
    "#### Inference- It is highly overfit"
   ]
  },
  {
   "cell_type": "markdown",
   "id": "7b2ef45b",
   "metadata": {},
   "source": [
    "### Adaboost Classifier"
   ]
  },
  {
   "cell_type": "code",
   "execution_count": 64,
   "id": "b8fa24e5",
   "metadata": {
    "scrolled": true
   },
   "outputs": [
    {
     "name": "stdout",
     "output_type": "stream",
     "text": [
      "Confusion_Matrix\n",
      " [[130   0   4   0   0]\n",
      " [225   0 203  10   0]\n",
      " [ 69   0 409 426   0]\n",
      " [  0   0  43 567   0]\n",
      " [  0   0   0  11   0]]\n",
      "Classification Report\n",
      "               precision    recall  f1-score   support\n",
      "\n",
      "           A       0.31      0.97      0.47       134\n",
      "           B       0.00      0.00      0.00       438\n",
      "           C       0.62      0.45      0.52       904\n",
      "           D       0.56      0.93      0.70       610\n",
      "           E       0.00      0.00      0.00        11\n",
      "\n",
      "    accuracy                           0.53      2097\n",
      "   macro avg       0.30      0.47      0.34      2097\n",
      "weighted avg       0.45      0.53      0.46      2097\n",
      "\n"
     ]
    },
    {
     "name": "stderr",
     "output_type": "stream",
     "text": [
      "D:\\Anaconda\\lib\\site-packages\\sklearn\\metrics\\_classification.py:1318: UndefinedMetricWarning: Precision and F-score are ill-defined and being set to 0.0 in labels with no predicted samples. Use `zero_division` parameter to control this behavior.\n",
      "  _warn_prf(average, modifier, msg_start, len(result))\n",
      "D:\\Anaconda\\lib\\site-packages\\sklearn\\metrics\\_classification.py:1318: UndefinedMetricWarning: Precision and F-score are ill-defined and being set to 0.0 in labels with no predicted samples. Use `zero_division` parameter to control this behavior.\n",
      "  _warn_prf(average, modifier, msg_start, len(result))\n",
      "D:\\Anaconda\\lib\\site-packages\\sklearn\\metrics\\_classification.py:1318: UndefinedMetricWarning: Precision and F-score are ill-defined and being set to 0.0 in labels with no predicted samples. Use `zero_division` parameter to control this behavior.\n",
      "  _warn_prf(average, modifier, msg_start, len(result))\n"
     ]
    },
    {
     "data": {
      "text/html": [
       "<div>\n",
       "<style scoped>\n",
       "    .dataframe tbody tr th:only-of-type {\n",
       "        vertical-align: middle;\n",
       "    }\n",
       "\n",
       "    .dataframe tbody tr th {\n",
       "        vertical-align: top;\n",
       "    }\n",
       "\n",
       "    .dataframe thead th {\n",
       "        text-align: right;\n",
       "    }\n",
       "</style>\n",
       "<table border=\"1\" class=\"dataframe\">\n",
       "  <thead>\n",
       "    <tr style=\"text-align: right;\">\n",
       "      <th></th>\n",
       "      <th>Train_Acc</th>\n",
       "      <th>Test_Acc</th>\n",
       "    </tr>\n",
       "  </thead>\n",
       "  <tbody>\n",
       "    <tr>\n",
       "      <th>AdaBoost</th>\n",
       "      <td>0.54211</td>\n",
       "      <td>0.52742</td>\n",
       "    </tr>\n",
       "  </tbody>\n",
       "</table>\n",
       "</div>"
      ],
      "text/plain": [
       "          Train_Acc  Test_Acc\n",
       "AdaBoost    0.54211   0.52742"
      ]
     },
     "execution_count": 64,
     "metadata": {},
     "output_type": "execute_result"
    }
   ],
   "source": [
    "ada = AdaBoostClassifier(n_estimators=70)  # depth of tree = 1\n",
    "ada_res = eval_model(ada,x_train,y_train,x_test,y_test,'AdaBoost')\n",
    "ada_res"
   ]
  },
  {
   "cell_type": "markdown",
   "id": "e85030f1",
   "metadata": {},
   "source": [
    "#### Inference - There is a minimul Overfitting but we have less accuracy "
   ]
  },
  {
   "cell_type": "markdown",
   "id": "0f832393",
   "metadata": {},
   "source": [
    "### Gradient Boosting Classifier"
   ]
  },
  {
   "cell_type": "code",
   "execution_count": 65,
   "id": "750ef792",
   "metadata": {},
   "outputs": [],
   "source": [
    "from sklearn.ensemble import GradientBoostingClassifier"
   ]
  },
  {
   "cell_type": "code",
   "execution_count": 66,
   "id": "c6216fab",
   "metadata": {
    "scrolled": false
   },
   "outputs": [
    {
     "name": "stdout",
     "output_type": "stream",
     "text": [
      "Confusion_Matrix\n",
      " [[102  32   0   0   0]\n",
      " [  8 361  69   0   0]\n",
      " [  0  53 804  47   0]\n",
      " [  0   0  51 559   0]\n",
      " [  0   0   0   9   2]]\n",
      "Classification Report\n",
      "               precision    recall  f1-score   support\n",
      "\n",
      "           A       0.93      0.76      0.84       134\n",
      "           B       0.81      0.82      0.82       438\n",
      "           C       0.87      0.89      0.88       904\n",
      "           D       0.91      0.92      0.91       610\n",
      "           E       1.00      0.18      0.31        11\n",
      "\n",
      "    accuracy                           0.87      2097\n",
      "   macro avg       0.90      0.71      0.75      2097\n",
      "weighted avg       0.87      0.87      0.87      2097\n",
      "\n"
     ]
    },
    {
     "data": {
      "text/html": [
       "<div>\n",
       "<style scoped>\n",
       "    .dataframe tbody tr th:only-of-type {\n",
       "        vertical-align: middle;\n",
       "    }\n",
       "\n",
       "    .dataframe tbody tr th {\n",
       "        vertical-align: top;\n",
       "    }\n",
       "\n",
       "    .dataframe thead th {\n",
       "        text-align: right;\n",
       "    }\n",
       "</style>\n",
       "<table border=\"1\" class=\"dataframe\">\n",
       "  <thead>\n",
       "    <tr style=\"text-align: right;\">\n",
       "      <th></th>\n",
       "      <th>Train_Acc</th>\n",
       "      <th>Test_Acc</th>\n",
       "    </tr>\n",
       "  </thead>\n",
       "  <tbody>\n",
       "    <tr>\n",
       "      <th>Gradient Boost</th>\n",
       "      <td>0.907809</td>\n",
       "      <td>0.871722</td>\n",
       "    </tr>\n",
       "  </tbody>\n",
       "</table>\n",
       "</div>"
      ],
      "text/plain": [
       "                Train_Acc  Test_Acc\n",
       "Gradient Boost   0.907809  0.871722"
      ]
     },
     "execution_count": 66,
     "metadata": {},
     "output_type": "execute_result"
    }
   ],
   "source": [
    "gbc = GradientBoostingClassifier(n_estimators=150,learning_rate=0.05,\n",
    "                                 random_state=8,max_features=12)\n",
    "                                 \n",
    "gbc_res = eval_model(gbc,x_train,y_train,x_test,y_test,'Gradient Boost')\n",
    "gbc_res  "
   ]
  },
  {
   "cell_type": "code",
   "execution_count": null,
   "id": "95597469",
   "metadata": {},
   "outputs": [],
   "source": []
  },
  {
   "cell_type": "code",
   "execution_count": null,
   "id": "b834d292",
   "metadata": {},
   "outputs": [],
   "source": []
  },
  {
   "cell_type": "code",
   "execution_count": 80,
   "id": "0333f616",
   "metadata": {},
   "outputs": [],
   "source": [
    "from xgboost import XGBClassifier"
   ]
  },
  {
   "cell_type": "code",
   "execution_count": 77,
   "id": "f5a3f3da",
   "metadata": {},
   "outputs": [
    {
     "data": {
      "text/plain": [
       "Counter({'D': 1516, 'C': 2019, 'B': 1034, 'E': 15, 'A': 308})"
      ]
     },
     "execution_count": 77,
     "metadata": {},
     "output_type": "execute_result"
    }
   ],
   "source": [
    "from collections import Counter\n",
    "Counter(y_train)"
   ]
  },
  {
   "cell_type": "code",
   "execution_count": 82,
   "id": "0972e121",
   "metadata": {},
   "outputs": [],
   "source": [
    "y_train1 = y_train.replace({'A':0,'B':1,'C':2,'D':3,'E':4})\n",
    "y_test1 = y_test.replace({'A':0,'B':1,'C':2,'D':3,'E':4})"
   ]
  },
  {
   "cell_type": "code",
   "execution_count": 84,
   "id": "08bdf8a5",
   "metadata": {},
   "outputs": [
    {
     "data": {
      "text/plain": [
       "XGBClassifier(base_score=None, booster=None, callbacks=None,\n",
       "              colsample_bylevel=None, colsample_bynode=None,\n",
       "              colsample_bytree=None, device=None, early_stopping_rounds=None,\n",
       "              enable_categorical=False, eval_metric='mlogloss',\n",
       "              feature_types=None, gamma=None, grow_policy=None,\n",
       "              importance_type=None, interaction_constraints=None,\n",
       "              learning_rate=None, max_bin=None, max_cat_threshold=None,\n",
       "              max_cat_to_onehot=None, max_delta_step=None, max_depth=None,\n",
       "              max_leaves=None, min_child_weight=None, missing=nan,\n",
       "              monotone_constraints=None, multi_strategy=None, n_estimators=None,\n",
       "              n_jobs=None, num_parallel_tree=None, objective='multi:softmax', ...)"
      ]
     },
     "execution_count": 84,
     "metadata": {},
     "output_type": "execute_result"
    }
   ],
   "source": [
    "xgb = XGBClassifier(objective='multi:softmax',eval_metric ='mlogloss')\n",
    "xgb.fit(x_train,y_train1)"
   ]
  },
  {
   "cell_type": "markdown",
   "id": "0733db68",
   "metadata": {},
   "source": [
    "#### Inference - As we can see there is minimul overfitting with a great accuracy"
   ]
  },
  {
   "cell_type": "markdown",
   "id": "440fdecd",
   "metadata": {},
   "source": [
    "### Concating all results"
   ]
  },
  {
   "cell_type": "code",
   "execution_count": 69,
   "id": "9cd52eae",
   "metadata": {},
   "outputs": [
    {
     "data": {
      "text/html": [
       "<div>\n",
       "<style scoped>\n",
       "    .dataframe tbody tr th:only-of-type {\n",
       "        vertical-align: middle;\n",
       "    }\n",
       "\n",
       "    .dataframe tbody tr th {\n",
       "        vertical-align: top;\n",
       "    }\n",
       "\n",
       "    .dataframe thead th {\n",
       "        text-align: right;\n",
       "    }\n",
       "</style>\n",
       "<table border=\"1\" class=\"dataframe\">\n",
       "  <thead>\n",
       "    <tr style=\"text-align: right;\">\n",
       "      <th></th>\n",
       "      <th>Train_Acc</th>\n",
       "      <th>Test_Acc</th>\n",
       "    </tr>\n",
       "  </thead>\n",
       "  <tbody>\n",
       "    <tr>\n",
       "      <th>DTree</th>\n",
       "      <td>0.910875</td>\n",
       "      <td>0.781593</td>\n",
       "    </tr>\n",
       "    <tr>\n",
       "      <th>Random Forest</th>\n",
       "      <td>0.934587</td>\n",
       "      <td>0.854554</td>\n",
       "    </tr>\n",
       "    <tr>\n",
       "      <th>AdaBoost</th>\n",
       "      <td>0.542110</td>\n",
       "      <td>0.527420</td>\n",
       "    </tr>\n",
       "    <tr>\n",
       "      <th>Gradient Boost</th>\n",
       "      <td>0.907809</td>\n",
       "      <td>0.871722</td>\n",
       "    </tr>\n",
       "  </tbody>\n",
       "</table>\n",
       "</div>"
      ],
      "text/plain": [
       "                Train_Acc  Test_Acc\n",
       "DTree            0.910875  0.781593\n",
       "Random Forest    0.934587  0.854554\n",
       "AdaBoost         0.542110  0.527420\n",
       "Gradient Boost   0.907809  0.871722"
      ]
     },
     "execution_count": 69,
     "metadata": {},
     "output_type": "execute_result"
    }
   ],
   "source": [
    "all_res = pd.concat([dt_res,rf_res,ada_res,gbc_res])\n",
    "all_res"
   ]
  },
  {
   "cell_type": "markdown",
   "id": "da1cf94e",
   "metadata": {},
   "source": [
    "### According to the result Gradient Boost is the best model as there is minimul overfitting + has highest accuracy comparing to all others models"
   ]
  },
  {
   "cell_type": "markdown",
   "id": "c61acd8d",
   "metadata": {},
   "source": [
    "### Hyperparameter tuning of the best model which is Gradient Boost"
   ]
  },
  {
   "cell_type": "code",
   "execution_count": 154,
   "id": "992c5fb0",
   "metadata": {},
   "outputs": [],
   "source": [
    "from sklearn.model_selection import GridSearchCV, RandomizedSearchCV"
   ]
  },
  {
   "cell_type": "code",
   "execution_count": 155,
   "id": "b2aff667",
   "metadata": {},
   "outputs": [],
   "source": [
    "params_rf = {'n_estimators':[100,200,300,350,400],\n",
    "            'learning_rate':[0.05,0.06,0.07,0.08,0.09],\n",
    "            'max_features':[6,7,8,9,10,11,12]}"
   ]
  },
  {
   "cell_type": "code",
   "execution_count": 156,
   "id": "b1c788e7",
   "metadata": {},
   "outputs": [
    {
     "data": {
      "text/plain": [
       "RandomizedSearchCV(cv=5, estimator=GradientBoostingClassifier(random_state=8),\n",
       "                   param_distributions={'learning_rate': [0.05, 0.06, 0.07,\n",
       "                                                          0.08, 0.09],\n",
       "                                        'max_features': [6, 7, 8, 9, 10, 11,\n",
       "                                                         12],\n",
       "                                        'n_estimators': [100, 200, 300, 350,\n",
       "                                                         400]},\n",
       "                   scoring='accuracy')"
      ]
     },
     "execution_count": 156,
     "metadata": {},
     "output_type": "execute_result"
    }
   ],
   "source": [
    "gbc1 = GradientBoostingClassifier(random_state=8)\n",
    "gbc_res1 = RandomizedSearchCV(estimator=gbc1,param_distributions= params_rf,scoring='accuracy',cv=5)\n",
    "gbc_res1.fit(x_train,y_train)"
   ]
  },
  {
   "cell_type": "code",
   "execution_count": 157,
   "id": "e3ff828a",
   "metadata": {},
   "outputs": [
    {
     "name": "stdout",
     "output_type": "stream",
     "text": [
      "GradientBoostingClassifier(learning_rate=0.06, max_features=8, n_estimators=400,\n",
      "                           random_state=8)\n",
      "{'n_estimators': 400, 'max_features': 8, 'learning_rate': 0.06}\n",
      "0.8816452245624369\n"
     ]
    }
   ],
   "source": [
    "print(gbc_res1.best_estimator_)\n",
    "print(gbc_res1.best_params_)\n",
    "print(gbc_res1.best_score_)"
   ]
  },
  {
   "cell_type": "code",
   "execution_count": 158,
   "id": "b651b6eb",
   "metadata": {},
   "outputs": [
    {
     "data": {
      "text/plain": [
       "GradientBoostingClassifier(learning_rate=0.06, max_features=8, n_estimators=400)"
      ]
     },
     "execution_count": 158,
     "metadata": {},
     "output_type": "execute_result"
    }
   ],
   "source": [
    "gb2 = GradientBoostingClassifier(**gbc_res1.best_params_)\n",
    "gb2.fit(x_train,y_train)"
   ]
  },
  {
   "cell_type": "code",
   "execution_count": 159,
   "id": "93b222c5",
   "metadata": {},
   "outputs": [
    {
     "name": "stdout",
     "output_type": "stream",
     "text": [
      "Confusion_Matrix\n",
      " [[111  23   0   0   0]\n",
      " [ 10 378  50   0   0]\n",
      " [  0  41 816  47   0]\n",
      " [  0   0  52 558   0]\n",
      " [  0   0   0   8   3]]\n",
      "Classification Report\n",
      "               precision    recall  f1-score   support\n",
      "\n",
      "           1       0.92      0.83      0.87       134\n",
      "           2       0.86      0.86      0.86       438\n",
      "           3       0.89      0.90      0.90       904\n",
      "           4       0.91      0.91      0.91       610\n",
      "           5       1.00      0.27      0.43        11\n",
      "\n",
      "    accuracy                           0.89      2097\n",
      "   macro avg       0.91      0.76      0.79      2097\n",
      "weighted avg       0.89      0.89      0.89      2097\n",
      "\n"
     ]
    },
    {
     "data": {
      "text/html": [
       "<div>\n",
       "<style scoped>\n",
       "    .dataframe tbody tr th:only-of-type {\n",
       "        vertical-align: middle;\n",
       "    }\n",
       "\n",
       "    .dataframe tbody tr th {\n",
       "        vertical-align: top;\n",
       "    }\n",
       "\n",
       "    .dataframe thead th {\n",
       "        text-align: right;\n",
       "    }\n",
       "</style>\n",
       "<table border=\"1\" class=\"dataframe\">\n",
       "  <thead>\n",
       "    <tr style=\"text-align: right;\">\n",
       "      <th></th>\n",
       "      <th>Train_Acc</th>\n",
       "      <th>Test_Acc</th>\n",
       "    </tr>\n",
       "  </thead>\n",
       "  <tbody>\n",
       "    <tr>\n",
       "      <th>Gradient Boost1</th>\n",
       "      <td>0.96852</td>\n",
       "      <td>0.889843</td>\n",
       "    </tr>\n",
       "  </tbody>\n",
       "</table>\n",
       "</div>"
      ],
      "text/plain": [
       "                 Train_Acc  Test_Acc\n",
       "Gradient Boost1    0.96852  0.889843"
      ]
     },
     "execution_count": 159,
     "metadata": {},
     "output_type": "execute_result"
    }
   ],
   "source": [
    "gbc_res1 = eval_model(gb2,x_train,y_train,x_test,y_test,'Gradient Boost1')\n",
    "gbc_res1"
   ]
  },
  {
   "cell_type": "code",
   "execution_count": 160,
   "id": "5716ed76",
   "metadata": {},
   "outputs": [
    {
     "data": {
      "text/html": [
       "<div>\n",
       "<style scoped>\n",
       "    .dataframe tbody tr th:only-of-type {\n",
       "        vertical-align: middle;\n",
       "    }\n",
       "\n",
       "    .dataframe tbody tr th {\n",
       "        vertical-align: top;\n",
       "    }\n",
       "\n",
       "    .dataframe thead th {\n",
       "        text-align: right;\n",
       "    }\n",
       "</style>\n",
       "<table border=\"1\" class=\"dataframe\">\n",
       "  <thead>\n",
       "    <tr style=\"text-align: right;\">\n",
       "      <th></th>\n",
       "      <th>Train_Acc</th>\n",
       "      <th>Test_Acc</th>\n",
       "    </tr>\n",
       "  </thead>\n",
       "  <tbody>\n",
       "    <tr>\n",
       "      <th>DTree</th>\n",
       "      <td>0.911079</td>\n",
       "      <td>0.780639</td>\n",
       "    </tr>\n",
       "    <tr>\n",
       "      <th>Random Forest</th>\n",
       "      <td>0.937040</td>\n",
       "      <td>0.854077</td>\n",
       "    </tr>\n",
       "    <tr>\n",
       "      <th>AdaBoost</th>\n",
       "      <td>0.542110</td>\n",
       "      <td>0.527420</td>\n",
       "    </tr>\n",
       "    <tr>\n",
       "      <th>Gradient Boost</th>\n",
       "      <td>0.907809</td>\n",
       "      <td>0.871722</td>\n",
       "    </tr>\n",
       "    <tr>\n",
       "      <th>Gradient Boost1</th>\n",
       "      <td>0.968520</td>\n",
       "      <td>0.889843</td>\n",
       "    </tr>\n",
       "  </tbody>\n",
       "</table>\n",
       "</div>"
      ],
      "text/plain": [
       "                 Train_Acc  Test_Acc\n",
       "DTree             0.911079  0.780639\n",
       "Random Forest     0.937040  0.854077\n",
       "AdaBoost          0.542110  0.527420\n",
       "Gradient Boost    0.907809  0.871722\n",
       "Gradient Boost1   0.968520  0.889843"
      ]
     },
     "execution_count": 160,
     "metadata": {},
     "output_type": "execute_result"
    }
   ],
   "source": [
    "all_res = pd.concat([dt_res,rf_res,ada_res,gbc_res,gbc_res1])\n",
    "all_res"
   ]
  },
  {
   "cell_type": "markdown",
   "id": "5a003996",
   "metadata": {},
   "source": [
    "### According to result gradient boost is best model"
   ]
  },
  {
   "cell_type": "markdown",
   "id": "aeb87995",
   "metadata": {},
   "source": [
    "## Final Model"
   ]
  },
  {
   "cell_type": "code",
   "execution_count": 70,
   "id": "cbd4bb20",
   "metadata": {},
   "outputs": [
    {
     "data": {
      "text/plain": [
       "GradientBoostingClassifier(learning_rate=0.05, max_features=12,\n",
       "                           n_estimators=150, random_state=8)"
      ]
     },
     "execution_count": 70,
     "metadata": {},
     "output_type": "execute_result"
    }
   ],
   "source": [
    "gb_final = GradientBoostingClassifier(n_estimators=150,learning_rate=0.05,\n",
    "                                 random_state=8,max_features=12)\n",
    "gb_final.fit(x,y)"
   ]
  },
  {
   "cell_type": "code",
   "execution_count": 71,
   "id": "dcc9ab46",
   "metadata": {},
   "outputs": [
    {
     "data": {
      "text/plain": [
       "(3299, 13)"
      ]
     },
     "execution_count": 71,
     "metadata": {},
     "output_type": "execute_result"
    }
   ],
   "source": [
    "test.shape"
   ]
  },
  {
   "cell_type": "code",
   "execution_count": 72,
   "id": "961b9649",
   "metadata": {},
   "outputs": [
    {
     "name": "stdout",
     "output_type": "stream",
     "text": [
      "(3299, 12)\n"
     ]
    }
   ],
   "source": [
    "test_data_4_prediction = test[x.columns]\n",
    "print(test_data_4_prediction.shape)"
   ]
  },
  {
   "cell_type": "code",
   "execution_count": 73,
   "id": "6a8effd1",
   "metadata": {},
   "outputs": [],
   "source": [
    "ypred_test = gb_final.predict(test_data_4_prediction)"
   ]
  },
  {
   "cell_type": "code",
   "execution_count": 74,
   "id": "146cd6b6",
   "metadata": {},
   "outputs": [
    {
     "data": {
      "text/plain": [
       "(6989, 13)"
      ]
     },
     "execution_count": 74,
     "metadata": {},
     "output_type": "execute_result"
    }
   ],
   "source": [
    "train.shape"
   ]
  },
  {
   "cell_type": "code",
   "execution_count": 75,
   "id": "0f362b2f",
   "metadata": {},
   "outputs": [
    {
     "data": {
      "text/html": [
       "<div>\n",
       "<style scoped>\n",
       "    .dataframe tbody tr th:only-of-type {\n",
       "        vertical-align: middle;\n",
       "    }\n",
       "\n",
       "    .dataframe tbody tr th {\n",
       "        vertical-align: top;\n",
       "    }\n",
       "\n",
       "    .dataframe thead th {\n",
       "        text-align: right;\n",
       "    }\n",
       "</style>\n",
       "<table border=\"1\" class=\"dataframe\">\n",
       "  <thead>\n",
       "    <tr style=\"text-align: right;\">\n",
       "      <th></th>\n",
       "      <th>id</th>\n",
       "      <th>Area(total)</th>\n",
       "      <th>Troom</th>\n",
       "      <th>Nbedrooms</th>\n",
       "      <th>Nbwashrooms</th>\n",
       "      <th>Twashrooms</th>\n",
       "      <th>roof</th>\n",
       "      <th>Roof(Area)</th>\n",
       "      <th>Lawn(Area)</th>\n",
       "      <th>Nfloors</th>\n",
       "      <th>API</th>\n",
       "      <th>ANB</th>\n",
       "      <th>EXPECTED</th>\n",
       "    </tr>\n",
       "  </thead>\n",
       "  <tbody>\n",
       "    <tr>\n",
       "      <th>0</th>\n",
       "      <td>1</td>\n",
       "      <td>348</td>\n",
       "      <td>9.0</td>\n",
       "      <td>5.0</td>\n",
       "      <td>3.0</td>\n",
       "      <td>5</td>\n",
       "      <td>0</td>\n",
       "      <td>0.0</td>\n",
       "      <td>84.0</td>\n",
       "      <td>5</td>\n",
       "      <td>91.0</td>\n",
       "      <td>6</td>\n",
       "      <td>4422</td>\n",
       "    </tr>\n",
       "    <tr>\n",
       "      <th>1</th>\n",
       "      <td>2</td>\n",
       "      <td>311</td>\n",
       "      <td>6.0</td>\n",
       "      <td>5.0</td>\n",
       "      <td>5.0</td>\n",
       "      <td>6</td>\n",
       "      <td>0</td>\n",
       "      <td>0.0</td>\n",
       "      <td>86.0</td>\n",
       "      <td>6</td>\n",
       "      <td>83.0</td>\n",
       "      <td>4</td>\n",
       "      <td>3432</td>\n",
       "    </tr>\n",
       "    <tr>\n",
       "      <th>2</th>\n",
       "      <td>3</td>\n",
       "      <td>342</td>\n",
       "      <td>5.0</td>\n",
       "      <td>6.0</td>\n",
       "      <td>6.0</td>\n",
       "      <td>7</td>\n",
       "      <td>1</td>\n",
       "      <td>120.0</td>\n",
       "      <td>85.0</td>\n",
       "      <td>4</td>\n",
       "      <td>95.0</td>\n",
       "      <td>5</td>\n",
       "      <td>4066</td>\n",
       "    </tr>\n",
       "    <tr>\n",
       "      <th>3</th>\n",
       "      <td>4</td>\n",
       "      <td>329</td>\n",
       "      <td>7.0</td>\n",
       "      <td>7.0</td>\n",
       "      <td>4.0</td>\n",
       "      <td>6</td>\n",
       "      <td>0</td>\n",
       "      <td>0.0</td>\n",
       "      <td>105.0</td>\n",
       "      <td>5</td>\n",
       "      <td>97.0</td>\n",
       "      <td>6</td>\n",
       "      <td>4322</td>\n",
       "    </tr>\n",
       "    <tr>\n",
       "      <th>4</th>\n",
       "      <td>5</td>\n",
       "      <td>307</td>\n",
       "      <td>6.0</td>\n",
       "      <td>2.0</td>\n",
       "      <td>3.0</td>\n",
       "      <td>4</td>\n",
       "      <td>0</td>\n",
       "      <td>0.0</td>\n",
       "      <td>76.0</td>\n",
       "      <td>2</td>\n",
       "      <td>64.0</td>\n",
       "      <td>4</td>\n",
       "      <td>3031</td>\n",
       "    </tr>\n",
       "  </tbody>\n",
       "</table>\n",
       "</div>"
      ],
      "text/plain": [
       "   id  Area(total)  Troom  Nbedrooms  Nbwashrooms  Twashrooms  roof  \\\n",
       "0   1          348    9.0        5.0          3.0           5     0   \n",
       "1   2          311    6.0        5.0          5.0           6     0   \n",
       "2   3          342    5.0        6.0          6.0           7     1   \n",
       "3   4          329    7.0        7.0          4.0           6     0   \n",
       "4   5          307    6.0        2.0          3.0           4     0   \n",
       "\n",
       "   Roof(Area)  Lawn(Area)  Nfloors   API  ANB  EXPECTED  \n",
       "0         0.0        84.0        5  91.0    6      4422  \n",
       "1         0.0        86.0        6  83.0    4      3432  \n",
       "2       120.0        85.0        4  95.0    5      4066  \n",
       "3         0.0       105.0        5  97.0    6      4322  \n",
       "4         0.0        76.0        2  64.0    4      3031  "
      ]
     },
     "execution_count": 75,
     "metadata": {},
     "output_type": "execute_result"
    }
   ],
   "source": [
    "test.head()"
   ]
  },
  {
   "cell_type": "code",
   "execution_count": 167,
   "id": "22f21694",
   "metadata": {},
   "outputs": [
    {
     "data": {
      "text/html": [
       "<div>\n",
       "<style scoped>\n",
       "    .dataframe tbody tr th:only-of-type {\n",
       "        vertical-align: middle;\n",
       "    }\n",
       "\n",
       "    .dataframe tbody tr th {\n",
       "        vertical-align: top;\n",
       "    }\n",
       "\n",
       "    .dataframe thead th {\n",
       "        text-align: right;\n",
       "    }\n",
       "</style>\n",
       "<table border=\"1\" class=\"dataframe\">\n",
       "  <thead>\n",
       "    <tr style=\"text-align: right;\">\n",
       "      <th></th>\n",
       "      <th>ID</th>\n",
       "      <th>Grade</th>\n",
       "    </tr>\n",
       "  </thead>\n",
       "  <tbody>\n",
       "    <tr>\n",
       "      <th>0</th>\n",
       "      <td>1</td>\n",
       "      <td>2</td>\n",
       "    </tr>\n",
       "    <tr>\n",
       "      <th>1</th>\n",
       "      <td>2</td>\n",
       "      <td>4</td>\n",
       "    </tr>\n",
       "    <tr>\n",
       "      <th>2</th>\n",
       "      <td>3</td>\n",
       "      <td>3</td>\n",
       "    </tr>\n",
       "    <tr>\n",
       "      <th>3</th>\n",
       "      <td>4</td>\n",
       "      <td>3</td>\n",
       "    </tr>\n",
       "    <tr>\n",
       "      <th>4</th>\n",
       "      <td>5</td>\n",
       "      <td>4</td>\n",
       "    </tr>\n",
       "    <tr>\n",
       "      <th>5</th>\n",
       "      <td>6</td>\n",
       "      <td>3</td>\n",
       "    </tr>\n",
       "    <tr>\n",
       "      <th>6</th>\n",
       "      <td>7</td>\n",
       "      <td>2</td>\n",
       "    </tr>\n",
       "    <tr>\n",
       "      <th>7</th>\n",
       "      <td>8</td>\n",
       "      <td>3</td>\n",
       "    </tr>\n",
       "    <tr>\n",
       "      <th>8</th>\n",
       "      <td>9</td>\n",
       "      <td>4</td>\n",
       "    </tr>\n",
       "    <tr>\n",
       "      <th>9</th>\n",
       "      <td>10</td>\n",
       "      <td>4</td>\n",
       "    </tr>\n",
       "  </tbody>\n",
       "</table>\n",
       "</div>"
      ],
      "text/plain": [
       "   ID  Grade\n",
       "0   1      2\n",
       "1   2      4\n",
       "2   3      3\n",
       "3   4      3\n",
       "4   5      4\n",
       "5   6      3\n",
       "6   7      2\n",
       "7   8      3\n",
       "8   9      4\n",
       "9  10      4"
      ]
     },
     "execution_count": 167,
     "metadata": {},
     "output_type": "execute_result"
    }
   ],
   "source": [
    "submission = pd.DataFrame({'ID':test['id'],'Grade':ypred_test})\n",
    "submission.head(10)"
   ]
  },
  {
   "cell_type": "code",
   "execution_count": 4,
   "id": "1504b1ec",
   "metadata": {},
   "outputs": [],
   "source": [
    "lables = {1:'A',2:'B',3:'C',4:'D',5:'E'}"
   ]
  },
  {
   "cell_type": "code",
   "execution_count": null,
   "id": "b2fc1358",
   "metadata": {},
   "outputs": [],
   "source": [
    "submisson['Grade_New'] = submisson['Grade'].map(labels)"
   ]
  },
  {
   "cell_type": "code",
   "execution_count": 168,
   "id": "4cb9248c",
   "metadata": {},
   "outputs": [],
   "source": [
    "submission.to_csv('result.csv',index=False)"
   ]
  },
  {
   "cell_type": "markdown",
   "id": "5fe05cb0",
   "metadata": {},
   "source": [
    "### This is how we can use machine learning algorithms to do House Grade Predictions"
   ]
  }
 ],
 "metadata": {
  "kernelspec": {
   "display_name": "Python 3 (ipykernel)",
   "language": "python",
   "name": "python3"
  },
  "language_info": {
   "codemirror_mode": {
    "name": "ipython",
    "version": 3
   },
   "file_extension": ".py",
   "mimetype": "text/x-python",
   "name": "python",
   "nbconvert_exporter": "python",
   "pygments_lexer": "ipython3",
   "version": "3.9.13"
  }
 },
 "nbformat": 4,
 "nbformat_minor": 5
}
